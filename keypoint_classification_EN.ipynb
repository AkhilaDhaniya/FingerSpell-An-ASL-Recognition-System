{
 "cells": [
  {
   "cell_type": "code",
   "execution_count": 1,
   "metadata": {
    "id": "igMyGnjE9hEp"
   },
   "outputs": [],
   "source": [
    "import csv\n",
    "\n",
    "import numpy as np\n",
    "import tensorflow as tf\n",
    "from sklearn.model_selection import train_test_split\n",
    "\n",
    "RANDOM_SEED = 42"
   ]
  },
  {
   "cell_type": "markdown",
   "metadata": {
    "id": "t2HDvhIu9hEr"
   },
   "source": [
    "# Specify each path"
   ]
  },
  {
   "cell_type": "code",
   "execution_count": 3,
   "metadata": {
    "id": "9NvZP2Zn9hEy"
   },
   "outputs": [],
   "source": [
    "dataset = 'model/keypoint_classifier/keypoint.csv'\n",
    "model_save_path = 'model/keypoint_classifier/keypoint_classifier.hdf5'\n",
    "tflite_save_path = 'model/keypoint_classifier/keypoint_classifier.tflite'"
   ]
  },
  {
   "cell_type": "markdown",
   "metadata": {
    "id": "s5oMH7x19hEz"
   },
   "source": [
    "# Set number of classes"
   ]
  },
  {
   "cell_type": "code",
   "execution_count": 5,
   "metadata": {
    "id": "du4kodXL9hEz"
   },
   "outputs": [],
   "source": [
    "NUM_CLASSES = 25"
   ]
  },
  {
   "cell_type": "markdown",
   "metadata": {
    "id": "XjnL0uso9hEz"
   },
   "source": [
    "# Dataset reading"
   ]
  },
  {
   "cell_type": "code",
   "execution_count": 7,
   "metadata": {
    "id": "QT5ZqtEz9hE0"
   },
   "outputs": [],
   "source": [
    "X_dataset = np.loadtxt(dataset, delimiter=',', dtype='float32', usecols=list(range(1, (21 * 2) + 1)))"
   ]
  },
  {
   "cell_type": "code",
   "execution_count": 8,
   "metadata": {
    "id": "QmoKFsp49hE0"
   },
   "outputs": [],
   "source": [
    "y_dataset = np.loadtxt(dataset, delimiter=',', dtype='int32', usecols=(0))"
   ]
  },
  {
   "cell_type": "code",
   "execution_count": 9,
   "metadata": {
    "id": "xQU7JTZ_9hE0"
   },
   "outputs": [],
   "source": [
    "X_train, X_test, y_train, y_test = train_test_split(X_dataset, y_dataset, train_size=0.75, random_state=RANDOM_SEED)"
   ]
  },
  {
   "cell_type": "markdown",
   "metadata": {
    "id": "mxK_lETT9hE0"
   },
   "source": [
    "# Model building"
   ]
  },
  {
   "cell_type": "code",
   "execution_count": 11,
   "metadata": {
    "id": "vHBmUf1t9hE1"
   },
   "outputs": [],
   "source": [
    "model = tf.keras.models.Sequential([\n",
    "    tf.keras.layers.Input((21 * 2, )),\n",
    "    tf.keras.layers.Dropout(0.1),\n",
    "    #tf.keras.layers.Dense(20, activation='relu'),\n",
    "    tf.keras.layers.Dense(64, activation='relu'),\n",
    "    tf.keras.layers.Dropout(0.3),\n",
    "    #tf.keras.layers.Dense(10, activation='relu'),\n",
    "    tf.keras.layers.Dense(32, activation='relu'),\n",
    "    tf.keras.layers.Dense(NUM_CLASSES, activation='softmax')\n",
    "])"
   ]
  },
  {
   "cell_type": "code",
   "execution_count": 12,
   "metadata": {
    "colab": {
     "base_uri": "https://localhost:8080/"
    },
    "id": "ypqky9tc9hE1",
    "outputId": "5db082bb-30e3-4110-bf63-a1ee777ecd46"
   },
   "outputs": [
    {
     "data": {
      "text/html": [
       "<pre style=\"white-space:pre;overflow-x:auto;line-height:normal;font-family:Menlo,'DejaVu Sans Mono',consolas,'Courier New',monospace\"><span style=\"font-weight: bold\">Model: \"sequential\"</span>\n",
       "</pre>\n"
      ],
      "text/plain": [
       "\u001b[1mModel: \"sequential\"\u001b[0m\n"
      ]
     },
     "metadata": {},
     "output_type": "display_data"
    },
    {
     "data": {
      "text/html": [
       "<pre style=\"white-space:pre;overflow-x:auto;line-height:normal;font-family:Menlo,'DejaVu Sans Mono',consolas,'Courier New',monospace\">┏━━━━━━━━━━━━━━━━━━━━━━━━━━━━━━━━━━━━━━┳━━━━━━━━━━━━━━━━━━━━━━━━━━━━━┳━━━━━━━━━━━━━━━━━┓\n",
       "┃<span style=\"font-weight: bold\"> Layer (type)                         </span>┃<span style=\"font-weight: bold\"> Output Shape                </span>┃<span style=\"font-weight: bold\">         Param # </span>┃\n",
       "┡━━━━━━━━━━━━━━━━━━━━━━━━━━━━━━━━━━━━━━╇━━━━━━━━━━━━━━━━━━━━━━━━━━━━━╇━━━━━━━━━━━━━━━━━┩\n",
       "│ dropout (<span style=\"color: #0087ff; text-decoration-color: #0087ff\">Dropout</span>)                    │ (<span style=\"color: #00d7ff; text-decoration-color: #00d7ff\">None</span>, <span style=\"color: #00af00; text-decoration-color: #00af00\">42</span>)                  │               <span style=\"color: #00af00; text-decoration-color: #00af00\">0</span> │\n",
       "├──────────────────────────────────────┼─────────────────────────────┼─────────────────┤\n",
       "│ dense (<span style=\"color: #0087ff; text-decoration-color: #0087ff\">Dense</span>)                        │ (<span style=\"color: #00d7ff; text-decoration-color: #00d7ff\">None</span>, <span style=\"color: #00af00; text-decoration-color: #00af00\">64</span>)                  │           <span style=\"color: #00af00; text-decoration-color: #00af00\">2,752</span> │\n",
       "├──────────────────────────────────────┼─────────────────────────────┼─────────────────┤\n",
       "│ dropout_1 (<span style=\"color: #0087ff; text-decoration-color: #0087ff\">Dropout</span>)                  │ (<span style=\"color: #00d7ff; text-decoration-color: #00d7ff\">None</span>, <span style=\"color: #00af00; text-decoration-color: #00af00\">64</span>)                  │               <span style=\"color: #00af00; text-decoration-color: #00af00\">0</span> │\n",
       "├──────────────────────────────────────┼─────────────────────────────┼─────────────────┤\n",
       "│ dense_1 (<span style=\"color: #0087ff; text-decoration-color: #0087ff\">Dense</span>)                      │ (<span style=\"color: #00d7ff; text-decoration-color: #00d7ff\">None</span>, <span style=\"color: #00af00; text-decoration-color: #00af00\">32</span>)                  │           <span style=\"color: #00af00; text-decoration-color: #00af00\">2,080</span> │\n",
       "├──────────────────────────────────────┼─────────────────────────────┼─────────────────┤\n",
       "│ dense_2 (<span style=\"color: #0087ff; text-decoration-color: #0087ff\">Dense</span>)                      │ (<span style=\"color: #00d7ff; text-decoration-color: #00d7ff\">None</span>, <span style=\"color: #00af00; text-decoration-color: #00af00\">25</span>)                  │             <span style=\"color: #00af00; text-decoration-color: #00af00\">825</span> │\n",
       "└──────────────────────────────────────┴─────────────────────────────┴─────────────────┘\n",
       "</pre>\n"
      ],
      "text/plain": [
       "┏━━━━━━━━━━━━━━━━━━━━━━━━━━━━━━━━━━━━━━┳━━━━━━━━━━━━━━━━━━━━━━━━━━━━━┳━━━━━━━━━━━━━━━━━┓\n",
       "┃\u001b[1m \u001b[0m\u001b[1mLayer (type)                        \u001b[0m\u001b[1m \u001b[0m┃\u001b[1m \u001b[0m\u001b[1mOutput Shape               \u001b[0m\u001b[1m \u001b[0m┃\u001b[1m \u001b[0m\u001b[1m        Param #\u001b[0m\u001b[1m \u001b[0m┃\n",
       "┡━━━━━━━━━━━━━━━━━━━━━━━━━━━━━━━━━━━━━━╇━━━━━━━━━━━━━━━━━━━━━━━━━━━━━╇━━━━━━━━━━━━━━━━━┩\n",
       "│ dropout (\u001b[38;5;33mDropout\u001b[0m)                    │ (\u001b[38;5;45mNone\u001b[0m, \u001b[38;5;34m42\u001b[0m)                  │               \u001b[38;5;34m0\u001b[0m │\n",
       "├──────────────────────────────────────┼─────────────────────────────┼─────────────────┤\n",
       "│ dense (\u001b[38;5;33mDense\u001b[0m)                        │ (\u001b[38;5;45mNone\u001b[0m, \u001b[38;5;34m64\u001b[0m)                  │           \u001b[38;5;34m2,752\u001b[0m │\n",
       "├──────────────────────────────────────┼─────────────────────────────┼─────────────────┤\n",
       "│ dropout_1 (\u001b[38;5;33mDropout\u001b[0m)                  │ (\u001b[38;5;45mNone\u001b[0m, \u001b[38;5;34m64\u001b[0m)                  │               \u001b[38;5;34m0\u001b[0m │\n",
       "├──────────────────────────────────────┼─────────────────────────────┼─────────────────┤\n",
       "│ dense_1 (\u001b[38;5;33mDense\u001b[0m)                      │ (\u001b[38;5;45mNone\u001b[0m, \u001b[38;5;34m32\u001b[0m)                  │           \u001b[38;5;34m2,080\u001b[0m │\n",
       "├──────────────────────────────────────┼─────────────────────────────┼─────────────────┤\n",
       "│ dense_2 (\u001b[38;5;33mDense\u001b[0m)                      │ (\u001b[38;5;45mNone\u001b[0m, \u001b[38;5;34m25\u001b[0m)                  │             \u001b[38;5;34m825\u001b[0m │\n",
       "└──────────────────────────────────────┴─────────────────────────────┴─────────────────┘\n"
      ]
     },
     "metadata": {},
     "output_type": "display_data"
    },
    {
     "data": {
      "text/html": [
       "<pre style=\"white-space:pre;overflow-x:auto;line-height:normal;font-family:Menlo,'DejaVu Sans Mono',consolas,'Courier New',monospace\"><span style=\"font-weight: bold\"> Total params: </span><span style=\"color: #00af00; text-decoration-color: #00af00\">5,657</span> (22.10 KB)\n",
       "</pre>\n"
      ],
      "text/plain": [
       "\u001b[1m Total params: \u001b[0m\u001b[38;5;34m5,657\u001b[0m (22.10 KB)\n"
      ]
     },
     "metadata": {},
     "output_type": "display_data"
    },
    {
     "data": {
      "text/html": [
       "<pre style=\"white-space:pre;overflow-x:auto;line-height:normal;font-family:Menlo,'DejaVu Sans Mono',consolas,'Courier New',monospace\"><span style=\"font-weight: bold\"> Trainable params: </span><span style=\"color: #00af00; text-decoration-color: #00af00\">5,657</span> (22.10 KB)\n",
       "</pre>\n"
      ],
      "text/plain": [
       "\u001b[1m Trainable params: \u001b[0m\u001b[38;5;34m5,657\u001b[0m (22.10 KB)\n"
      ]
     },
     "metadata": {},
     "output_type": "display_data"
    },
    {
     "data": {
      "text/html": [
       "<pre style=\"white-space:pre;overflow-x:auto;line-height:normal;font-family:Menlo,'DejaVu Sans Mono',consolas,'Courier New',monospace\"><span style=\"font-weight: bold\"> Non-trainable params: </span><span style=\"color: #00af00; text-decoration-color: #00af00\">0</span> (0.00 B)\n",
       "</pre>\n"
      ],
      "text/plain": [
       "\u001b[1m Non-trainable params: \u001b[0m\u001b[38;5;34m0\u001b[0m (0.00 B)\n"
      ]
     },
     "metadata": {},
     "output_type": "display_data"
    }
   ],
   "source": [
    "model.summary()  # tf.keras.utils.plot_model(model, show_shapes=True)"
   ]
  },
  {
   "cell_type": "code",
   "execution_count": 13,
   "metadata": {
    "id": "MbMjOflQ9hE1"
   },
   "outputs": [],
   "source": [
    "# Model checkpoint callback\n",
    "cp_callback = tf.keras.callbacks.ModelCheckpoint(\n",
    "    filepath=model_save_path + \".keras\", verbose=1, save_weights_only=False)# Append .keras extension to the filepath to save the whole model\n",
    "# Callback for early stopping\n",
    "es_callback = tf.keras.callbacks.EarlyStopping(patience=20, verbose=1)\n",
    "# Model compilation\n",
    "model.compile(\n",
    "    optimizer='adam',\n",
    "    loss='sparse_categorical_crossentropy',\n",
    "    metrics=['accuracy']\n",
    ")"
   ]
  },
  {
   "cell_type": "code",
   "execution_count": 14,
   "metadata": {},
   "outputs": [
    {
     "name": "stdout",
     "output_type": "stream",
     "text": [
      "[ 0  1  2  3  4  5  6  7  8  9 10 11 12 13 14 15 16 17 18 19 20 21 22 23\n",
      " 24]\n",
      "{0: 1125, 1: 932, 2: 1066, 3: 990, 4: 1356, 5: 902, 6: 1284, 7: 1227, 8: 1132, 9: 1129, 10: 993, 11: 1676, 12: 2057, 13: 1228, 14: 1027, 15: 1042, 16: 1472, 17: 1608, 18: 1300, 19: 2513, 20: 1992, 21: 1389, 22: 1128, 23: 1265, 24: 1327}\n"
     ]
    }
   ],
   "source": [
    "print(np.unique(y_dataset))  # Should print [0, 1, 2, 3, 4, 5]\n",
    "unique, counts = np.unique(y_dataset, return_counts=True)\n",
    "print(dict(zip(unique, counts)))  # Check if classes 4 and 5 are present"
   ]
  },
  {
   "cell_type": "markdown",
   "metadata": {
    "id": "7XI0j1Iu9hE2"
   },
   "source": [
    "# Model training"
   ]
  },
  {
   "cell_type": "code",
   "execution_count": 16,
   "metadata": {
    "colab": {
     "base_uri": "https://localhost:8080/"
    },
    "id": "WirBl-JE9hE3",
    "outputId": "71b30ca2-8294-4d9d-8aa2-800d90d399de",
    "scrolled": true
   },
   "outputs": [
    {
     "name": "stdout",
     "output_type": "stream",
     "text": [
      "Epoch 1/1000\n",
      "\u001b[1m194/195\u001b[0m \u001b[32m━━━━━━━━━━━━━━━━━━━\u001b[0m\u001b[37m━\u001b[0m \u001b[1m0s\u001b[0m 4ms/step - accuracy: 0.1456 - loss: 2.9098\n",
      "Epoch 1: saving model to model/keypoint_classifier/keypoint_classifier.hdf5.keras\n",
      "\u001b[1m195/195\u001b[0m \u001b[32m━━━━━━━━━━━━━━━━━━━━\u001b[0m\u001b[37m\u001b[0m \u001b[1m5s\u001b[0m 9ms/step - accuracy: 0.1465 - loss: 2.9062 - val_accuracy: 0.4905 - val_loss: 1.6601\n",
      "Epoch 2/1000\n",
      "\u001b[1m190/195\u001b[0m \u001b[32m━━━━━━━━━━━━━━━━━━━\u001b[0m\u001b[37m━\u001b[0m \u001b[1m0s\u001b[0m 4ms/step - accuracy: 0.4278 - loss: 1.7248\n",
      "Epoch 2: saving model to model/keypoint_classifier/keypoint_classifier.hdf5.keras\n",
      "\u001b[1m195/195\u001b[0m \u001b[32m━━━━━━━━━━━━━━━━━━━━\u001b[0m\u001b[37m\u001b[0m \u001b[1m1s\u001b[0m 7ms/step - accuracy: 0.4293 - loss: 1.7202 - val_accuracy: 0.7480 - val_loss: 0.9819\n",
      "Epoch 3/1000\n",
      "\u001b[1m192/195\u001b[0m \u001b[32m━━━━━━━━━━━━━━━━━━━\u001b[0m\u001b[37m━\u001b[0m \u001b[1m0s\u001b[0m 3ms/step - accuracy: 0.5714 - loss: 1.2771\n",
      "Epoch 3: saving model to model/keypoint_classifier/keypoint_classifier.hdf5.keras\n",
      "\u001b[1m195/195\u001b[0m \u001b[32m━━━━━━━━━━━━━━━━━━━━\u001b[0m\u001b[37m\u001b[0m \u001b[1m2s\u001b[0m 5ms/step - accuracy: 0.5717 - loss: 1.2760 - val_accuracy: 0.8580 - val_loss: 0.7114\n",
      "Epoch 4/1000\n",
      "\u001b[1m192/195\u001b[0m \u001b[32m━━━━━━━━━━━━━━━━━━━\u001b[0m\u001b[37m━\u001b[0m \u001b[1m0s\u001b[0m 4ms/step - accuracy: 0.6290 - loss: 1.0775\n",
      "Epoch 4: saving model to model/keypoint_classifier/keypoint_classifier.hdf5.keras\n",
      "\u001b[1m195/195\u001b[0m \u001b[32m━━━━━━━━━━━━━━━━━━━━\u001b[0m\u001b[37m\u001b[0m \u001b[1m1s\u001b[0m 5ms/step - accuracy: 0.6293 - loss: 1.0770 - val_accuracy: 0.8552 - val_loss: 0.5953\n",
      "Epoch 5/1000\n",
      "\u001b[1m191/195\u001b[0m \u001b[32m━━━━━━━━━━━━━━━━━━━\u001b[0m\u001b[37m━\u001b[0m \u001b[1m0s\u001b[0m 4ms/step - accuracy: 0.6700 - loss: 0.9732\n",
      "Epoch 5: saving model to model/keypoint_classifier/keypoint_classifier.hdf5.keras\n",
      "\u001b[1m195/195\u001b[0m \u001b[32m━━━━━━━━━━━━━━━━━━━━\u001b[0m\u001b[37m\u001b[0m \u001b[1m1s\u001b[0m 5ms/step - accuracy: 0.6702 - loss: 0.9727 - val_accuracy: 0.8957 - val_loss: 0.5021\n",
      "Epoch 6/1000\n",
      "\u001b[1m194/195\u001b[0m \u001b[32m━━━━━━━━━━━━━━━━━━━\u001b[0m\u001b[37m━\u001b[0m \u001b[1m0s\u001b[0m 3ms/step - accuracy: 0.6927 - loss: 0.9031\n",
      "Epoch 6: saving model to model/keypoint_classifier/keypoint_classifier.hdf5.keras\n",
      "\u001b[1m195/195\u001b[0m \u001b[32m━━━━━━━━━━━━━━━━━━━━\u001b[0m\u001b[37m\u001b[0m \u001b[1m1s\u001b[0m 4ms/step - accuracy: 0.6928 - loss: 0.9028 - val_accuracy: 0.9072 - val_loss: 0.4506\n",
      "Epoch 7/1000\n",
      "\u001b[1m184/195\u001b[0m \u001b[32m━━━━━━━━━━━━━━━━━━\u001b[0m\u001b[37m━━\u001b[0m \u001b[1m0s\u001b[0m 3ms/step - accuracy: 0.7147 - loss: 0.8476\n",
      "Epoch 7: saving model to model/keypoint_classifier/keypoint_classifier.hdf5.keras\n",
      "\u001b[1m195/195\u001b[0m \u001b[32m━━━━━━━━━━━━━━━━━━━━\u001b[0m\u001b[37m\u001b[0m \u001b[1m1s\u001b[0m 4ms/step - accuracy: 0.7149 - loss: 0.8463 - val_accuracy: 0.9123 - val_loss: 0.4088\n",
      "Epoch 8/1000\n",
      "\u001b[1m184/195\u001b[0m \u001b[32m━━━━━━━━━━━━━━━━━━\u001b[0m\u001b[37m━━\u001b[0m \u001b[1m0s\u001b[0m 3ms/step - accuracy: 0.7220 - loss: 0.8087\n",
      "Epoch 8: saving model to model/keypoint_classifier/keypoint_classifier.hdf5.keras\n",
      "\u001b[1m195/195\u001b[0m \u001b[32m━━━━━━━━━━━━━━━━━━━━\u001b[0m\u001b[37m\u001b[0m \u001b[1m1s\u001b[0m 4ms/step - accuracy: 0.7226 - loss: 0.8076 - val_accuracy: 0.9135 - val_loss: 0.3840\n",
      "Epoch 9/1000\n",
      "\u001b[1m190/195\u001b[0m \u001b[32m━━━━━━━━━━━━━━━━━━━\u001b[0m\u001b[37m━\u001b[0m \u001b[1m0s\u001b[0m 3ms/step - accuracy: 0.7430 - loss: 0.7399\n",
      "Epoch 9: saving model to model/keypoint_classifier/keypoint_classifier.hdf5.keras\n",
      "\u001b[1m195/195\u001b[0m \u001b[32m━━━━━━━━━━━━━━━━━━━━\u001b[0m\u001b[37m\u001b[0m \u001b[1m1s\u001b[0m 5ms/step - accuracy: 0.7431 - loss: 0.7399 - val_accuracy: 0.9267 - val_loss: 0.3516\n",
      "Epoch 10/1000\n",
      "\u001b[1m182/195\u001b[0m \u001b[32m━━━━━━━━━━━━━━━━━━\u001b[0m\u001b[37m━━\u001b[0m \u001b[1m0s\u001b[0m 3ms/step - accuracy: 0.7475 - loss: 0.7214\n",
      "Epoch 10: saving model to model/keypoint_classifier/keypoint_classifier.hdf5.keras\n",
      "\u001b[1m195/195\u001b[0m \u001b[32m━━━━━━━━━━━━━━━━━━━━\u001b[0m\u001b[37m\u001b[0m \u001b[1m1s\u001b[0m 5ms/step - accuracy: 0.7480 - loss: 0.7205 - val_accuracy: 0.9239 - val_loss: 0.3267\n",
      "Epoch 11/1000\n",
      "\u001b[1m188/195\u001b[0m \u001b[32m━━━━━━━━━━━━━━━━━━━\u001b[0m\u001b[37m━\u001b[0m \u001b[1m0s\u001b[0m 4ms/step - accuracy: 0.7632 - loss: 0.6928\n",
      "Epoch 11: saving model to model/keypoint_classifier/keypoint_classifier.hdf5.keras\n",
      "\u001b[1m195/195\u001b[0m \u001b[32m━━━━━━━━━━━━━━━━━━━━\u001b[0m\u001b[37m\u001b[0m \u001b[1m1s\u001b[0m 5ms/step - accuracy: 0.7633 - loss: 0.6929 - val_accuracy: 0.9275 - val_loss: 0.3197\n",
      "Epoch 12/1000\n",
      "\u001b[1m188/195\u001b[0m \u001b[32m━━━━━━━━━━━━━━━━━━━\u001b[0m\u001b[37m━\u001b[0m \u001b[1m0s\u001b[0m 3ms/step - accuracy: 0.7667 - loss: 0.6789\n",
      "Epoch 12: saving model to model/keypoint_classifier/keypoint_classifier.hdf5.keras\n",
      "\u001b[1m195/195\u001b[0m \u001b[32m━━━━━━━━━━━━━━━━━━━━\u001b[0m\u001b[37m\u001b[0m \u001b[1m1s\u001b[0m 5ms/step - accuracy: 0.7669 - loss: 0.6787 - val_accuracy: 0.9429 - val_loss: 0.2996\n",
      "Epoch 13/1000\n",
      "\u001b[1m181/195\u001b[0m \u001b[32m━━━━━━━━━━━━━━━━━━\u001b[0m\u001b[37m━━\u001b[0m \u001b[1m0s\u001b[0m 3ms/step - accuracy: 0.7749 - loss: 0.6568\n",
      "Epoch 13: saving model to model/keypoint_classifier/keypoint_classifier.hdf5.keras\n",
      "\u001b[1m195/195\u001b[0m \u001b[32m━━━━━━━━━━━━━━━━━━━━\u001b[0m\u001b[37m\u001b[0m \u001b[1m1s\u001b[0m 5ms/step - accuracy: 0.7751 - loss: 0.6563 - val_accuracy: 0.9475 - val_loss: 0.2913\n",
      "Epoch 14/1000\n",
      "\u001b[1m188/195\u001b[0m \u001b[32m━━━━━━━━━━━━━━━━━━━\u001b[0m\u001b[37m━\u001b[0m \u001b[1m0s\u001b[0m 4ms/step - accuracy: 0.7840 - loss: 0.6334\n",
      "Epoch 14: saving model to model/keypoint_classifier/keypoint_classifier.hdf5.keras\n",
      "\u001b[1m195/195\u001b[0m \u001b[32m━━━━━━━━━━━━━━━━━━━━\u001b[0m\u001b[37m\u001b[0m \u001b[1m1s\u001b[0m 5ms/step - accuracy: 0.7841 - loss: 0.6332 - val_accuracy: 0.9516 - val_loss: 0.2775\n",
      "Epoch 15/1000\n",
      "\u001b[1m193/195\u001b[0m \u001b[32m━━━━━━━━━━━━━━━━━━━\u001b[0m\u001b[37m━\u001b[0m \u001b[1m0s\u001b[0m 3ms/step - accuracy: 0.7903 - loss: 0.6057\n",
      "Epoch 15: saving model to model/keypoint_classifier/keypoint_classifier.hdf5.keras\n",
      "\u001b[1m195/195\u001b[0m \u001b[32m━━━━━━━━━━━━━━━━━━━━\u001b[0m\u001b[37m\u001b[0m \u001b[1m1s\u001b[0m 5ms/step - accuracy: 0.7904 - loss: 0.6057 - val_accuracy: 0.9445 - val_loss: 0.2654\n",
      "Epoch 16/1000\n",
      "\u001b[1m192/195\u001b[0m \u001b[32m━━━━━━━━━━━━━━━━━━━\u001b[0m\u001b[37m━\u001b[0m \u001b[1m0s\u001b[0m 4ms/step - accuracy: 0.7949 - loss: 0.5936\n",
      "Epoch 16: saving model to model/keypoint_classifier/keypoint_classifier.hdf5.keras\n",
      "\u001b[1m195/195\u001b[0m \u001b[32m━━━━━━━━━━━━━━━━━━━━\u001b[0m\u001b[37m\u001b[0m \u001b[1m1s\u001b[0m 5ms/step - accuracy: 0.7949 - loss: 0.5936 - val_accuracy: 0.9543 - val_loss: 0.2590\n",
      "Epoch 17/1000\n",
      "\u001b[1m177/195\u001b[0m \u001b[32m━━━━━━━━━━━━━━━━━━\u001b[0m\u001b[37m━━\u001b[0m \u001b[1m0s\u001b[0m 4ms/step - accuracy: 0.7942 - loss: 0.5987\n",
      "Epoch 17: saving model to model/keypoint_classifier/keypoint_classifier.hdf5.keras\n",
      "\u001b[1m195/195\u001b[0m \u001b[32m━━━━━━━━━━━━━━━━━━━━\u001b[0m\u001b[37m\u001b[0m \u001b[1m1s\u001b[0m 5ms/step - accuracy: 0.7946 - loss: 0.5975 - val_accuracy: 0.9521 - val_loss: 0.2553\n",
      "Epoch 18/1000\n",
      "\u001b[1m188/195\u001b[0m \u001b[32m━━━━━━━━━━━━━━━━━━━\u001b[0m\u001b[37m━\u001b[0m \u001b[1m0s\u001b[0m 5ms/step - accuracy: 0.7990 - loss: 0.5732\n",
      "Epoch 18: saving model to model/keypoint_classifier/keypoint_classifier.hdf5.keras\n",
      "\u001b[1m195/195\u001b[0m \u001b[32m━━━━━━━━━━━━━━━━━━━━\u001b[0m\u001b[37m\u001b[0m \u001b[1m2s\u001b[0m 6ms/step - accuracy: 0.7992 - loss: 0.5730 - val_accuracy: 0.9586 - val_loss: 0.2431\n",
      "Epoch 19/1000\n",
      "\u001b[1m193/195\u001b[0m \u001b[32m━━━━━━━━━━━━━━━━━━━\u001b[0m\u001b[37m━\u001b[0m \u001b[1m0s\u001b[0m 4ms/step - accuracy: 0.8065 - loss: 0.5623\n",
      "Epoch 19: saving model to model/keypoint_classifier/keypoint_classifier.hdf5.keras\n",
      "\u001b[1m195/195\u001b[0m \u001b[32m━━━━━━━━━━━━━━━━━━━━\u001b[0m\u001b[37m\u001b[0m \u001b[1m1s\u001b[0m 5ms/step - accuracy: 0.8065 - loss: 0.5623 - val_accuracy: 0.9559 - val_loss: 0.2405\n",
      "Epoch 20/1000\n",
      "\u001b[1m190/195\u001b[0m \u001b[32m━━━━━━━━━━━━━━━━━━━\u001b[0m\u001b[37m━\u001b[0m \u001b[1m0s\u001b[0m 5ms/step - accuracy: 0.8156 - loss: 0.5389\n",
      "Epoch 20: saving model to model/keypoint_classifier/keypoint_classifier.hdf5.keras\n",
      "\u001b[1m195/195\u001b[0m \u001b[32m━━━━━━━━━━━━━━━━━━━━\u001b[0m\u001b[37m\u001b[0m \u001b[1m1s\u001b[0m 6ms/step - accuracy: 0.8157 - loss: 0.5387 - val_accuracy: 0.9539 - val_loss: 0.2301\n",
      "Epoch 21/1000\n",
      "\u001b[1m191/195\u001b[0m \u001b[32m━━━━━━━━━━━━━━━━━━━\u001b[0m\u001b[37m━\u001b[0m \u001b[1m0s\u001b[0m 3ms/step - accuracy: 0.8151 - loss: 0.5330\n",
      "Epoch 21: saving model to model/keypoint_classifier/keypoint_classifier.hdf5.keras\n",
      "\u001b[1m195/195\u001b[0m \u001b[32m━━━━━━━━━━━━━━━━━━━━\u001b[0m\u001b[37m\u001b[0m \u001b[1m1s\u001b[0m 5ms/step - accuracy: 0.8151 - loss: 0.5330 - val_accuracy: 0.9614 - val_loss: 0.2255\n",
      "Epoch 22/1000\n",
      "\u001b[1m184/195\u001b[0m \u001b[32m━━━━━━━━━━━━━━━━━━\u001b[0m\u001b[37m━━\u001b[0m \u001b[1m0s\u001b[0m 3ms/step - accuracy: 0.8211 - loss: 0.5180\n",
      "Epoch 22: saving model to model/keypoint_classifier/keypoint_classifier.hdf5.keras\n",
      "\u001b[1m195/195\u001b[0m \u001b[32m━━━━━━━━━━━━━━━━━━━━\u001b[0m\u001b[37m\u001b[0m \u001b[1m1s\u001b[0m 5ms/step - accuracy: 0.8211 - loss: 0.5180 - val_accuracy: 0.9536 - val_loss: 0.2206\n",
      "Epoch 23/1000\n",
      "\u001b[1m184/195\u001b[0m \u001b[32m━━━━━━━━━━━━━━━━━━\u001b[0m\u001b[37m━━\u001b[0m \u001b[1m0s\u001b[0m 3ms/step - accuracy: 0.8231 - loss: 0.5160\n",
      "Epoch 23: saving model to model/keypoint_classifier/keypoint_classifier.hdf5.keras\n",
      "\u001b[1m195/195\u001b[0m \u001b[32m━━━━━━━━━━━━━━━━━━━━\u001b[0m\u001b[37m\u001b[0m \u001b[1m1s\u001b[0m 5ms/step - accuracy: 0.8230 - loss: 0.5160 - val_accuracy: 0.9572 - val_loss: 0.2234\n",
      "Epoch 24/1000\n",
      "\u001b[1m185/195\u001b[0m \u001b[32m━━━━━━━━━━━━━━━━━━\u001b[0m\u001b[37m━━\u001b[0m \u001b[1m0s\u001b[0m 4ms/step - accuracy: 0.8346 - loss: 0.4995\n",
      "Epoch 24: saving model to model/keypoint_classifier/keypoint_classifier.hdf5.keras\n",
      "\u001b[1m195/195\u001b[0m \u001b[32m━━━━━━━━━━━━━━━━━━━━\u001b[0m\u001b[37m\u001b[0m \u001b[1m1s\u001b[0m 6ms/step - accuracy: 0.8345 - loss: 0.4994 - val_accuracy: 0.9655 - val_loss: 0.2063\n",
      "Epoch 25/1000\n",
      "\u001b[1m192/195\u001b[0m \u001b[32m━━━━━━━━━━━━━━━━━━━\u001b[0m\u001b[37m━\u001b[0m \u001b[1m0s\u001b[0m 3ms/step - accuracy: 0.8344 - loss: 0.4864\n",
      "Epoch 25: saving model to model/keypoint_classifier/keypoint_classifier.hdf5.keras\n",
      "\u001b[1m195/195\u001b[0m \u001b[32m━━━━━━━━━━━━━━━━━━━━\u001b[0m\u001b[37m\u001b[0m \u001b[1m1s\u001b[0m 5ms/step - accuracy: 0.8344 - loss: 0.4864 - val_accuracy: 0.9614 - val_loss: 0.2018\n",
      "Epoch 26/1000\n",
      "\u001b[1m187/195\u001b[0m \u001b[32m━━━━━━━━━━━━━━━━━━━\u001b[0m\u001b[37m━\u001b[0m \u001b[1m0s\u001b[0m 3ms/step - accuracy: 0.8373 - loss: 0.4799\n",
      "Epoch 26: saving model to model/keypoint_classifier/keypoint_classifier.hdf5.keras\n",
      "\u001b[1m195/195\u001b[0m \u001b[32m━━━━━━━━━━━━━━━━━━━━\u001b[0m\u001b[37m\u001b[0m \u001b[1m1s\u001b[0m 5ms/step - accuracy: 0.8374 - loss: 0.4794 - val_accuracy: 0.9644 - val_loss: 0.2004\n",
      "Epoch 27/1000\n",
      "\u001b[1m192/195\u001b[0m \u001b[32m━━━━━━━━━━━━━━━━━━━\u001b[0m\u001b[37m━\u001b[0m \u001b[1m0s\u001b[0m 4ms/step - accuracy: 0.8419 - loss: 0.4703\n",
      "Epoch 27: saving model to model/keypoint_classifier/keypoint_classifier.hdf5.keras\n",
      "\u001b[1m195/195\u001b[0m \u001b[32m━━━━━━━━━━━━━━━━━━━━\u001b[0m\u001b[37m\u001b[0m \u001b[1m1s\u001b[0m 6ms/step - accuracy: 0.8419 - loss: 0.4702 - val_accuracy: 0.9653 - val_loss: 0.1911\n",
      "Epoch 28/1000\n",
      "\u001b[1m192/195\u001b[0m \u001b[32m━━━━━━━━━━━━━━━━━━━\u001b[0m\u001b[37m━\u001b[0m \u001b[1m0s\u001b[0m 3ms/step - accuracy: 0.8458 - loss: 0.4543\n",
      "Epoch 28: saving model to model/keypoint_classifier/keypoint_classifier.hdf5.keras\n",
      "\u001b[1m195/195\u001b[0m \u001b[32m━━━━━━━━━━━━━━━━━━━━\u001b[0m\u001b[37m\u001b[0m \u001b[1m1s\u001b[0m 5ms/step - accuracy: 0.8458 - loss: 0.4544 - val_accuracy: 0.9665 - val_loss: 0.1966\n",
      "Epoch 29/1000\n",
      "\u001b[1m188/195\u001b[0m \u001b[32m━━━━━━━━━━━━━━━━━━━\u001b[0m\u001b[37m━\u001b[0m \u001b[1m0s\u001b[0m 4ms/step - accuracy: 0.8490 - loss: 0.4518\n",
      "Epoch 29: saving model to model/keypoint_classifier/keypoint_classifier.hdf5.keras\n",
      "\u001b[1m195/195\u001b[0m \u001b[32m━━━━━━━━━━━━━━━━━━━━\u001b[0m\u001b[37m\u001b[0m \u001b[1m1s\u001b[0m 6ms/step - accuracy: 0.8491 - loss: 0.4515 - val_accuracy: 0.9683 - val_loss: 0.1907\n",
      "Epoch 30/1000\n",
      "\u001b[1m183/195\u001b[0m \u001b[32m━━━━━━━━━━━━━━━━━━\u001b[0m\u001b[37m━━\u001b[0m \u001b[1m0s\u001b[0m 5ms/step - accuracy: 0.8509 - loss: 0.4404\n",
      "Epoch 30: saving model to model/keypoint_classifier/keypoint_classifier.hdf5.keras\n",
      "\u001b[1m195/195\u001b[0m \u001b[32m━━━━━━━━━━━━━━━━━━━━\u001b[0m\u001b[37m\u001b[0m \u001b[1m1s\u001b[0m 6ms/step - accuracy: 0.8511 - loss: 0.4400 - val_accuracy: 0.9713 - val_loss: 0.1799\n",
      "Epoch 31/1000\n",
      "\u001b[1m189/195\u001b[0m \u001b[32m━━━━━━━━━━━━━━━━━━━\u001b[0m\u001b[37m━\u001b[0m \u001b[1m0s\u001b[0m 4ms/step - accuracy: 0.8499 - loss: 0.4398\n",
      "Epoch 31: saving model to model/keypoint_classifier/keypoint_classifier.hdf5.keras\n",
      "\u001b[1m195/195\u001b[0m \u001b[32m━━━━━━━━━━━━━━━━━━━━\u001b[0m\u001b[37m\u001b[0m \u001b[1m1s\u001b[0m 5ms/step - accuracy: 0.8500 - loss: 0.4395 - val_accuracy: 0.9676 - val_loss: 0.1807\n",
      "Epoch 32/1000\n",
      "\u001b[1m184/195\u001b[0m \u001b[32m━━━━━━━━━━━━━━━━━━\u001b[0m\u001b[37m━━\u001b[0m \u001b[1m0s\u001b[0m 3ms/step - accuracy: 0.8603 - loss: 0.4218\n",
      "Epoch 32: saving model to model/keypoint_classifier/keypoint_classifier.hdf5.keras\n",
      "\u001b[1m195/195\u001b[0m \u001b[32m━━━━━━━━━━━━━━━━━━━━\u001b[0m\u001b[37m\u001b[0m \u001b[1m1s\u001b[0m 5ms/step - accuracy: 0.8603 - loss: 0.4216 - val_accuracy: 0.9732 - val_loss: 0.1768\n",
      "Epoch 33/1000\n",
      "\u001b[1m185/195\u001b[0m \u001b[32m━━━━━━━━━━━━━━━━━━\u001b[0m\u001b[37m━━\u001b[0m \u001b[1m0s\u001b[0m 4ms/step - accuracy: 0.8558 - loss: 0.4330\n",
      "Epoch 33: saving model to model/keypoint_classifier/keypoint_classifier.hdf5.keras\n",
      "\u001b[1m195/195\u001b[0m \u001b[32m━━━━━━━━━━━━━━━━━━━━\u001b[0m\u001b[37m\u001b[0m \u001b[1m1s\u001b[0m 5ms/step - accuracy: 0.8559 - loss: 0.4325 - val_accuracy: 0.9696 - val_loss: 0.1745\n",
      "Epoch 34/1000\n",
      "\u001b[1m187/195\u001b[0m \u001b[32m━━━━━━━━━━━━━━━━━━━\u001b[0m\u001b[37m━\u001b[0m \u001b[1m0s\u001b[0m 4ms/step - accuracy: 0.8618 - loss: 0.4062\n",
      "Epoch 34: saving model to model/keypoint_classifier/keypoint_classifier.hdf5.keras\n",
      "\u001b[1m195/195\u001b[0m \u001b[32m━━━━━━━━━━━━━━━━━━━━\u001b[0m\u001b[37m\u001b[0m \u001b[1m1s\u001b[0m 5ms/step - accuracy: 0.8618 - loss: 0.4063 - val_accuracy: 0.9702 - val_loss: 0.1710\n",
      "Epoch 35/1000\n",
      "\u001b[1m190/195\u001b[0m \u001b[32m━━━━━━━━━━━━━━━━━━━\u001b[0m\u001b[37m━\u001b[0m \u001b[1m0s\u001b[0m 4ms/step - accuracy: 0.8599 - loss: 0.4163\n",
      "Epoch 35: saving model to model/keypoint_classifier/keypoint_classifier.hdf5.keras\n",
      "\u001b[1m195/195\u001b[0m \u001b[32m━━━━━━━━━━━━━━━━━━━━\u001b[0m\u001b[37m\u001b[0m \u001b[1m1s\u001b[0m 6ms/step - accuracy: 0.8601 - loss: 0.4161 - val_accuracy: 0.9712 - val_loss: 0.1682\n",
      "Epoch 36/1000\n",
      "\u001b[1m192/195\u001b[0m \u001b[32m━━━━━━━━━━━━━━━━━━━\u001b[0m\u001b[37m━\u001b[0m \u001b[1m0s\u001b[0m 3ms/step - accuracy: 0.8647 - loss: 0.3985\n",
      "Epoch 36: saving model to model/keypoint_classifier/keypoint_classifier.hdf5.keras\n",
      "\u001b[1m195/195\u001b[0m \u001b[32m━━━━━━━━━━━━━━━━━━━━\u001b[0m\u001b[37m\u001b[0m \u001b[1m1s\u001b[0m 5ms/step - accuracy: 0.8648 - loss: 0.3984 - val_accuracy: 0.9707 - val_loss: 0.1707\n",
      "Epoch 37/1000\n",
      "\u001b[1m185/195\u001b[0m \u001b[32m━━━━━━━━━━━━━━━━━━\u001b[0m\u001b[37m━━\u001b[0m \u001b[1m0s\u001b[0m 3ms/step - accuracy: 0.8672 - loss: 0.3868\n",
      "Epoch 37: saving model to model/keypoint_classifier/keypoint_classifier.hdf5.keras\n",
      "\u001b[1m195/195\u001b[0m \u001b[32m━━━━━━━━━━━━━━━━━━━━\u001b[0m\u001b[37m\u001b[0m \u001b[1m1s\u001b[0m 5ms/step - accuracy: 0.8674 - loss: 0.3868 - val_accuracy: 0.9730 - val_loss: 0.1547\n",
      "Epoch 38/1000\n",
      "\u001b[1m180/195\u001b[0m \u001b[32m━━━━━━━━━━━━━━━━━━\u001b[0m\u001b[37m━━\u001b[0m \u001b[1m0s\u001b[0m 4ms/step - accuracy: 0.8658 - loss: 0.3921\n",
      "Epoch 38: saving model to model/keypoint_classifier/keypoint_classifier.hdf5.keras\n",
      "\u001b[1m195/195\u001b[0m \u001b[32m━━━━━━━━━━━━━━━━━━━━\u001b[0m\u001b[37m\u001b[0m \u001b[1m1s\u001b[0m 6ms/step - accuracy: 0.8662 - loss: 0.3917 - val_accuracy: 0.9721 - val_loss: 0.1604\n",
      "Epoch 39/1000\n",
      "\u001b[1m184/195\u001b[0m \u001b[32m━━━━━━━━━━━━━━━━━━\u001b[0m\u001b[37m━━\u001b[0m \u001b[1m0s\u001b[0m 3ms/step - accuracy: 0.8726 - loss: 0.3754\n",
      "Epoch 39: saving model to model/keypoint_classifier/keypoint_classifier.hdf5.keras\n",
      "\u001b[1m195/195\u001b[0m \u001b[32m━━━━━━━━━━━━━━━━━━━━\u001b[0m\u001b[37m\u001b[0m \u001b[1m1s\u001b[0m 5ms/step - accuracy: 0.8726 - loss: 0.3756 - val_accuracy: 0.9743 - val_loss: 0.1537\n",
      "Epoch 40/1000\n",
      "\u001b[1m181/195\u001b[0m \u001b[32m━━━━━━━━━━━━━━━━━━\u001b[0m\u001b[37m━━\u001b[0m \u001b[1m0s\u001b[0m 4ms/step - accuracy: 0.8747 - loss: 0.3650\n",
      "Epoch 40: saving model to model/keypoint_classifier/keypoint_classifier.hdf5.keras\n",
      "\u001b[1m195/195\u001b[0m \u001b[32m━━━━━━━━━━━━━━━━━━━━\u001b[0m\u001b[37m\u001b[0m \u001b[1m1s\u001b[0m 6ms/step - accuracy: 0.8745 - loss: 0.3655 - val_accuracy: 0.9745 - val_loss: 0.1654\n",
      "Epoch 41/1000\n",
      "\u001b[1m189/195\u001b[0m \u001b[32m━━━━━━━━━━━━━━━━━━━\u001b[0m\u001b[37m━\u001b[0m \u001b[1m0s\u001b[0m 3ms/step - accuracy: 0.8720 - loss: 0.3814\n",
      "Epoch 41: saving model to model/keypoint_classifier/keypoint_classifier.hdf5.keras\n",
      "\u001b[1m195/195\u001b[0m \u001b[32m━━━━━━━━━━━━━━━━━━━━\u001b[0m\u001b[37m\u001b[0m \u001b[1m1s\u001b[0m 5ms/step - accuracy: 0.8721 - loss: 0.3811 - val_accuracy: 0.9778 - val_loss: 0.1446\n",
      "Epoch 42/1000\n",
      "\u001b[1m185/195\u001b[0m \u001b[32m━━━━━━━━━━━━━━━━━━\u001b[0m\u001b[37m━━\u001b[0m \u001b[1m0s\u001b[0m 3ms/step - accuracy: 0.8754 - loss: 0.3634\n",
      "Epoch 42: saving model to model/keypoint_classifier/keypoint_classifier.hdf5.keras\n",
      "\u001b[1m195/195\u001b[0m \u001b[32m━━━━━━━━━━━━━━━━━━━━\u001b[0m\u001b[37m\u001b[0m \u001b[1m1s\u001b[0m 5ms/step - accuracy: 0.8753 - loss: 0.3639 - val_accuracy: 0.9745 - val_loss: 0.1475\n",
      "Epoch 43/1000\n",
      "\u001b[1m184/195\u001b[0m \u001b[32m━━━━━━━━━━━━━━━━━━\u001b[0m\u001b[37m━━\u001b[0m \u001b[1m0s\u001b[0m 4ms/step - accuracy: 0.8793 - loss: 0.3590\n",
      "Epoch 43: saving model to model/keypoint_classifier/keypoint_classifier.hdf5.keras\n",
      "\u001b[1m195/195\u001b[0m \u001b[32m━━━━━━━━━━━━━━━━━━━━\u001b[0m\u001b[37m\u001b[0m \u001b[1m1s\u001b[0m 5ms/step - accuracy: 0.8792 - loss: 0.3591 - val_accuracy: 0.9753 - val_loss: 0.1482\n",
      "Epoch 44/1000\n",
      "\u001b[1m188/195\u001b[0m \u001b[32m━━━━━━━━━━━━━━━━━━━\u001b[0m\u001b[37m━\u001b[0m \u001b[1m0s\u001b[0m 3ms/step - accuracy: 0.8804 - loss: 0.3617\n",
      "Epoch 44: saving model to model/keypoint_classifier/keypoint_classifier.hdf5.keras\n",
      "\u001b[1m195/195\u001b[0m \u001b[32m━━━━━━━━━━━━━━━━━━━━\u001b[0m\u001b[37m\u001b[0m \u001b[1m1s\u001b[0m 5ms/step - accuracy: 0.8805 - loss: 0.3615 - val_accuracy: 0.9727 - val_loss: 0.1547\n",
      "Epoch 45/1000\n",
      "\u001b[1m188/195\u001b[0m \u001b[32m━━━━━━━━━━━━━━━━━━━\u001b[0m\u001b[37m━\u001b[0m \u001b[1m0s\u001b[0m 4ms/step - accuracy: 0.8820 - loss: 0.3545\n",
      "Epoch 45: saving model to model/keypoint_classifier/keypoint_classifier.hdf5.keras\n",
      "\u001b[1m195/195\u001b[0m \u001b[32m━━━━━━━━━━━━━━━━━━━━\u001b[0m\u001b[37m\u001b[0m \u001b[1m1s\u001b[0m 6ms/step - accuracy: 0.8820 - loss: 0.3544 - val_accuracy: 0.9729 - val_loss: 0.1462\n",
      "Epoch 46/1000\n",
      "\u001b[1m190/195\u001b[0m \u001b[32m━━━━━━━━━━━━━━━━━━━\u001b[0m\u001b[37m━\u001b[0m \u001b[1m0s\u001b[0m 5ms/step - accuracy: 0.8887 - loss: 0.3376\n",
      "Epoch 46: saving model to model/keypoint_classifier/keypoint_classifier.hdf5.keras\n",
      "\u001b[1m195/195\u001b[0m \u001b[32m━━━━━━━━━━━━━━━━━━━━\u001b[0m\u001b[37m\u001b[0m \u001b[1m1s\u001b[0m 6ms/step - accuracy: 0.8886 - loss: 0.3379 - val_accuracy: 0.9750 - val_loss: 0.1434\n",
      "Epoch 47/1000\n",
      "\u001b[1m180/195\u001b[0m \u001b[32m━━━━━━━━━━━━━━━━━━\u001b[0m\u001b[37m━━\u001b[0m \u001b[1m0s\u001b[0m 4ms/step - accuracy: 0.8833 - loss: 0.3503\n",
      "Epoch 47: saving model to model/keypoint_classifier/keypoint_classifier.hdf5.keras\n",
      "\u001b[1m195/195\u001b[0m \u001b[32m━━━━━━━━━━━━━━━━━━━━\u001b[0m\u001b[37m\u001b[0m \u001b[1m1s\u001b[0m 5ms/step - accuracy: 0.8834 - loss: 0.3499 - val_accuracy: 0.9758 - val_loss: 0.1401\n",
      "Epoch 48/1000\n",
      "\u001b[1m189/195\u001b[0m \u001b[32m━━━━━━━━━━━━━━━━━━━\u001b[0m\u001b[37m━\u001b[0m \u001b[1m0s\u001b[0m 4ms/step - accuracy: 0.8911 - loss: 0.3319\n",
      "Epoch 48: saving model to model/keypoint_classifier/keypoint_classifier.hdf5.keras\n",
      "\u001b[1m195/195\u001b[0m \u001b[32m━━━━━━━━━━━━━━━━━━━━\u001b[0m\u001b[37m\u001b[0m \u001b[1m2s\u001b[0m 6ms/step - accuracy: 0.8910 - loss: 0.3321 - val_accuracy: 0.9742 - val_loss: 0.1422\n",
      "Epoch 49/1000\n",
      "\u001b[1m182/195\u001b[0m \u001b[32m━━━━━━━━━━━━━━━━━━\u001b[0m\u001b[37m━━\u001b[0m \u001b[1m0s\u001b[0m 4ms/step - accuracy: 0.8859 - loss: 0.3403\n",
      "Epoch 49: saving model to model/keypoint_classifier/keypoint_classifier.hdf5.keras\n",
      "\u001b[1m195/195\u001b[0m \u001b[32m━━━━━━━━━━━━━━━━━━━━\u001b[0m\u001b[37m\u001b[0m \u001b[1m1s\u001b[0m 6ms/step - accuracy: 0.8861 - loss: 0.3400 - val_accuracy: 0.9774 - val_loss: 0.1335\n",
      "Epoch 50/1000\n",
      "\u001b[1m182/195\u001b[0m \u001b[32m━━━━━━━━━━━━━━━━━━\u001b[0m\u001b[37m━━\u001b[0m \u001b[1m0s\u001b[0m 5ms/step - accuracy: 0.8847 - loss: 0.3401\n",
      "Epoch 50: saving model to model/keypoint_classifier/keypoint_classifier.hdf5.keras\n",
      "\u001b[1m195/195\u001b[0m \u001b[32m━━━━━━━━━━━━━━━━━━━━\u001b[0m\u001b[37m\u001b[0m \u001b[1m1s\u001b[0m 6ms/step - accuracy: 0.8850 - loss: 0.3395 - val_accuracy: 0.9766 - val_loss: 0.1417\n",
      "Epoch 51/1000\n",
      "\u001b[1m191/195\u001b[0m \u001b[32m━━━━━━━━━━━━━━━━━━━\u001b[0m\u001b[37m━\u001b[0m \u001b[1m0s\u001b[0m 3ms/step - accuracy: 0.8924 - loss: 0.3354\n",
      "Epoch 51: saving model to model/keypoint_classifier/keypoint_classifier.hdf5.keras\n",
      "\u001b[1m195/195\u001b[0m \u001b[32m━━━━━━━━━━━━━━━━━━━━\u001b[0m\u001b[37m\u001b[0m \u001b[1m1s\u001b[0m 5ms/step - accuracy: 0.8924 - loss: 0.3354 - val_accuracy: 0.9788 - val_loss: 0.1259\n",
      "Epoch 52/1000\n",
      "\u001b[1m185/195\u001b[0m \u001b[32m━━━━━━━━━━━━━━━━━━\u001b[0m\u001b[37m━━\u001b[0m \u001b[1m0s\u001b[0m 4ms/step - accuracy: 0.8937 - loss: 0.3185\n",
      "Epoch 52: saving model to model/keypoint_classifier/keypoint_classifier.hdf5.keras\n",
      "\u001b[1m195/195\u001b[0m \u001b[32m━━━━━━━━━━━━━━━━━━━━\u001b[0m\u001b[37m\u001b[0m \u001b[1m1s\u001b[0m 6ms/step - accuracy: 0.8936 - loss: 0.3188 - val_accuracy: 0.9733 - val_loss: 0.1411\n",
      "Epoch 53/1000\n",
      "\u001b[1m187/195\u001b[0m \u001b[32m━━━━━━━━━━━━━━━━━━━\u001b[0m\u001b[37m━\u001b[0m \u001b[1m0s\u001b[0m 4ms/step - accuracy: 0.8925 - loss: 0.3202\n",
      "Epoch 53: saving model to model/keypoint_classifier/keypoint_classifier.hdf5.keras\n",
      "\u001b[1m195/195\u001b[0m \u001b[32m━━━━━━━━━━━━━━━━━━━━\u001b[0m\u001b[37m\u001b[0m \u001b[1m1s\u001b[0m 6ms/step - accuracy: 0.8925 - loss: 0.3204 - val_accuracy: 0.9706 - val_loss: 0.1444\n",
      "Epoch 54/1000\n",
      "\u001b[1m191/195\u001b[0m \u001b[32m━━━━━━━━━━━━━━━━━━━\u001b[0m\u001b[37m━\u001b[0m \u001b[1m0s\u001b[0m 4ms/step - accuracy: 0.8944 - loss: 0.3248\n",
      "Epoch 54: saving model to model/keypoint_classifier/keypoint_classifier.hdf5.keras\n",
      "\u001b[1m195/195\u001b[0m \u001b[32m━━━━━━━━━━━━━━━━━━━━\u001b[0m\u001b[37m\u001b[0m \u001b[1m1s\u001b[0m 6ms/step - accuracy: 0.8944 - loss: 0.3248 - val_accuracy: 0.9771 - val_loss: 0.1366\n",
      "Epoch 55/1000\n",
      "\u001b[1m194/195\u001b[0m \u001b[32m━━━━━━━━━━━━━━━━━━━\u001b[0m\u001b[37m━\u001b[0m \u001b[1m0s\u001b[0m 4ms/step - accuracy: 0.8961 - loss: 0.3179\n",
      "Epoch 55: saving model to model/keypoint_classifier/keypoint_classifier.hdf5.keras\n",
      "\u001b[1m195/195\u001b[0m \u001b[32m━━━━━━━━━━━━━━━━━━━━\u001b[0m\u001b[37m\u001b[0m \u001b[1m1s\u001b[0m 5ms/step - accuracy: 0.8961 - loss: 0.3179 - val_accuracy: 0.9788 - val_loss: 0.1322\n",
      "Epoch 56/1000\n",
      "\u001b[1m187/195\u001b[0m \u001b[32m━━━━━━━━━━━━━━━━━━━\u001b[0m\u001b[37m━\u001b[0m \u001b[1m0s\u001b[0m 4ms/step - accuracy: 0.8939 - loss: 0.3266\n",
      "Epoch 56: saving model to model/keypoint_classifier/keypoint_classifier.hdf5.keras\n",
      "\u001b[1m195/195\u001b[0m \u001b[32m━━━━━━━━━━━━━━━━━━━━\u001b[0m\u001b[37m\u001b[0m \u001b[1m1s\u001b[0m 6ms/step - accuracy: 0.8940 - loss: 0.3263 - val_accuracy: 0.9796 - val_loss: 0.1305\n",
      "Epoch 57/1000\n",
      "\u001b[1m194/195\u001b[0m \u001b[32m━━━━━━━━━━━━━━━━━━━\u001b[0m\u001b[37m━\u001b[0m \u001b[1m0s\u001b[0m 4ms/step - accuracy: 0.9012 - loss: 0.3047\n",
      "Epoch 57: saving model to model/keypoint_classifier/keypoint_classifier.hdf5.keras\n",
      "\u001b[1m195/195\u001b[0m \u001b[32m━━━━━━━━━━━━━━━━━━━━\u001b[0m\u001b[37m\u001b[0m \u001b[1m1s\u001b[0m 6ms/step - accuracy: 0.9012 - loss: 0.3048 - val_accuracy: 0.9761 - val_loss: 0.1352\n",
      "Epoch 58/1000\n",
      "\u001b[1m186/195\u001b[0m \u001b[32m━━━━━━━━━━━━━━━━━━━\u001b[0m\u001b[37m━\u001b[0m \u001b[1m0s\u001b[0m 3ms/step - accuracy: 0.8924 - loss: 0.3147\n",
      "Epoch 58: saving model to model/keypoint_classifier/keypoint_classifier.hdf5.keras\n",
      "\u001b[1m195/195\u001b[0m \u001b[32m━━━━━━━━━━━━━━━━━━━━\u001b[0m\u001b[37m\u001b[0m \u001b[1m1s\u001b[0m 5ms/step - accuracy: 0.8926 - loss: 0.3143 - val_accuracy: 0.9753 - val_loss: 0.1333\n",
      "Epoch 59/1000\n",
      "\u001b[1m193/195\u001b[0m \u001b[32m━━━━━━━━━━━━━━━━━━━\u001b[0m\u001b[37m━\u001b[0m \u001b[1m0s\u001b[0m 4ms/step - accuracy: 0.9000 - loss: 0.3116\n",
      "Epoch 59: saving model to model/keypoint_classifier/keypoint_classifier.hdf5.keras\n",
      "\u001b[1m195/195\u001b[0m \u001b[32m━━━━━━━━━━━━━━━━━━━━\u001b[0m\u001b[37m\u001b[0m \u001b[1m1s\u001b[0m 6ms/step - accuracy: 0.9000 - loss: 0.3116 - val_accuracy: 0.9764 - val_loss: 0.1354\n",
      "Epoch 60/1000\n",
      "\u001b[1m187/195\u001b[0m \u001b[32m━━━━━━━━━━━━━━━━━━━\u001b[0m\u001b[37m━\u001b[0m \u001b[1m0s\u001b[0m 4ms/step - accuracy: 0.9014 - loss: 0.3035\n",
      "Epoch 60: saving model to model/keypoint_classifier/keypoint_classifier.hdf5.keras\n",
      "\u001b[1m195/195\u001b[0m \u001b[32m━━━━━━━━━━━━━━━━━━━━\u001b[0m\u001b[37m\u001b[0m \u001b[1m1s\u001b[0m 5ms/step - accuracy: 0.9014 - loss: 0.3036 - val_accuracy: 0.9682 - val_loss: 0.1421\n",
      "Epoch 61/1000\n",
      "\u001b[1m185/195\u001b[0m \u001b[32m━━━━━━━━━━━━━━━━━━\u001b[0m\u001b[37m━━\u001b[0m \u001b[1m0s\u001b[0m 4ms/step - accuracy: 0.8964 - loss: 0.3084\n",
      "Epoch 61: saving model to model/keypoint_classifier/keypoint_classifier.hdf5.keras\n",
      "\u001b[1m195/195\u001b[0m \u001b[32m━━━━━━━━━━━━━━━━━━━━\u001b[0m\u001b[37m\u001b[0m \u001b[1m1s\u001b[0m 6ms/step - accuracy: 0.8965 - loss: 0.3082 - val_accuracy: 0.9776 - val_loss: 0.1309\n",
      "Epoch 62/1000\n",
      "\u001b[1m195/195\u001b[0m \u001b[32m━━━━━━━━━━━━━━━━━━━━\u001b[0m\u001b[37m\u001b[0m \u001b[1m0s\u001b[0m 4ms/step - accuracy: 0.9027 - loss: 0.3002\n",
      "Epoch 62: saving model to model/keypoint_classifier/keypoint_classifier.hdf5.keras\n",
      "\u001b[1m195/195\u001b[0m \u001b[32m━━━━━━━━━━━━━━━━━━━━\u001b[0m\u001b[37m\u001b[0m \u001b[1m1s\u001b[0m 6ms/step - accuracy: 0.9027 - loss: 0.3002 - val_accuracy: 0.9742 - val_loss: 0.1277\n",
      "Epoch 63/1000\n",
      "\u001b[1m195/195\u001b[0m \u001b[32m━━━━━━━━━━━━━━━━━━━━\u001b[0m\u001b[37m\u001b[0m \u001b[1m0s\u001b[0m 3ms/step - accuracy: 0.9002 - loss: 0.2991\n",
      "Epoch 63: saving model to model/keypoint_classifier/keypoint_classifier.hdf5.keras\n",
      "\u001b[1m195/195\u001b[0m \u001b[32m━━━━━━━━━━━━━━━━━━━━\u001b[0m\u001b[37m\u001b[0m \u001b[1m1s\u001b[0m 5ms/step - accuracy: 0.9002 - loss: 0.2991 - val_accuracy: 0.9776 - val_loss: 0.1301\n",
      "Epoch 64/1000\n",
      "\u001b[1m191/195\u001b[0m \u001b[32m━━━━━━━━━━━━━━━━━━━\u001b[0m\u001b[37m━\u001b[0m \u001b[1m0s\u001b[0m 4ms/step - accuracy: 0.8999 - loss: 0.3007\n",
      "Epoch 64: saving model to model/keypoint_classifier/keypoint_classifier.hdf5.keras\n",
      "\u001b[1m195/195\u001b[0m \u001b[32m━━━━━━━━━━━━━━━━━━━━\u001b[0m\u001b[37m\u001b[0m \u001b[1m1s\u001b[0m 6ms/step - accuracy: 0.8999 - loss: 0.3008 - val_accuracy: 0.9741 - val_loss: 0.1371\n",
      "Epoch 65/1000\n",
      "\u001b[1m186/195\u001b[0m \u001b[32m━━━━━━━━━━━━━━━━━━━\u001b[0m\u001b[37m━\u001b[0m \u001b[1m0s\u001b[0m 3ms/step - accuracy: 0.9001 - loss: 0.3021\n",
      "Epoch 65: saving model to model/keypoint_classifier/keypoint_classifier.hdf5.keras\n",
      "\u001b[1m195/195\u001b[0m \u001b[32m━━━━━━━━━━━━━━━━━━━━\u001b[0m\u001b[37m\u001b[0m \u001b[1m1s\u001b[0m 5ms/step - accuracy: 0.9002 - loss: 0.3017 - val_accuracy: 0.9739 - val_loss: 0.1328\n",
      "Epoch 66/1000\n",
      "\u001b[1m193/195\u001b[0m \u001b[32m━━━━━━━━━━━━━━━━━━━\u001b[0m\u001b[37m━\u001b[0m \u001b[1m0s\u001b[0m 4ms/step - accuracy: 0.9023 - loss: 0.3017\n",
      "Epoch 66: saving model to model/keypoint_classifier/keypoint_classifier.hdf5.keras\n",
      "\u001b[1m195/195\u001b[0m \u001b[32m━━━━━━━━━━━━━━━━━━━━\u001b[0m\u001b[37m\u001b[0m \u001b[1m1s\u001b[0m 6ms/step - accuracy: 0.9023 - loss: 0.3017 - val_accuracy: 0.9770 - val_loss: 0.1299\n",
      "Epoch 67/1000\n",
      "\u001b[1m187/195\u001b[0m \u001b[32m━━━━━━━━━━━━━━━━━━━\u001b[0m\u001b[37m━\u001b[0m \u001b[1m0s\u001b[0m 3ms/step - accuracy: 0.9077 - loss: 0.2816\n",
      "Epoch 67: saving model to model/keypoint_classifier/keypoint_classifier.hdf5.keras\n",
      "\u001b[1m195/195\u001b[0m \u001b[32m━━━━━━━━━━━━━━━━━━━━\u001b[0m\u001b[37m\u001b[0m \u001b[1m1s\u001b[0m 5ms/step - accuracy: 0.9077 - loss: 0.2818 - val_accuracy: 0.9794 - val_loss: 0.1172\n",
      "Epoch 68/1000\n",
      "\u001b[1m188/195\u001b[0m \u001b[32m━━━━━━━━━━━━━━━━━━━\u001b[0m\u001b[37m━\u001b[0m \u001b[1m0s\u001b[0m 3ms/step - accuracy: 0.9044 - loss: 0.2902\n",
      "Epoch 68: saving model to model/keypoint_classifier/keypoint_classifier.hdf5.keras\n",
      "\u001b[1m195/195\u001b[0m \u001b[32m━━━━━━━━━━━━━━━━━━━━\u001b[0m\u001b[37m\u001b[0m \u001b[1m1s\u001b[0m 5ms/step - accuracy: 0.9044 - loss: 0.2902 - val_accuracy: 0.9778 - val_loss: 0.1195\n",
      "Epoch 69/1000\n",
      "\u001b[1m195/195\u001b[0m \u001b[32m━━━━━━━━━━━━━━━━━━━━\u001b[0m\u001b[37m\u001b[0m \u001b[1m0s\u001b[0m 4ms/step - accuracy: 0.9067 - loss: 0.2827\n",
      "Epoch 69: saving model to model/keypoint_classifier/keypoint_classifier.hdf5.keras\n",
      "\u001b[1m195/195\u001b[0m \u001b[32m━━━━━━━━━━━━━━━━━━━━\u001b[0m\u001b[37m\u001b[0m \u001b[1m1s\u001b[0m 6ms/step - accuracy: 0.9067 - loss: 0.2827 - val_accuracy: 0.9706 - val_loss: 0.1298\n",
      "Epoch 70/1000\n",
      "\u001b[1m195/195\u001b[0m \u001b[32m━━━━━━━━━━━━━━━━━━━━\u001b[0m\u001b[37m\u001b[0m \u001b[1m0s\u001b[0m 4ms/step - accuracy: 0.9048 - loss: 0.2905\n",
      "Epoch 70: saving model to model/keypoint_classifier/keypoint_classifier.hdf5.keras\n",
      "\u001b[1m195/195\u001b[0m \u001b[32m━━━━━━━━━━━━━━━━━━━━\u001b[0m\u001b[37m\u001b[0m \u001b[1m1s\u001b[0m 6ms/step - accuracy: 0.9048 - loss: 0.2905 - val_accuracy: 0.9735 - val_loss: 0.1319\n",
      "Epoch 71/1000\n",
      "\u001b[1m195/195\u001b[0m \u001b[32m━━━━━━━━━━━━━━━━━━━━\u001b[0m\u001b[37m\u001b[0m \u001b[1m0s\u001b[0m 4ms/step - accuracy: 0.9020 - loss: 0.2983\n",
      "Epoch 71: saving model to model/keypoint_classifier/keypoint_classifier.hdf5.keras\n",
      "\u001b[1m195/195\u001b[0m \u001b[32m━━━━━━━━━━━━━━━━━━━━\u001b[0m\u001b[37m\u001b[0m \u001b[1m1s\u001b[0m 6ms/step - accuracy: 0.9020 - loss: 0.2983 - val_accuracy: 0.9741 - val_loss: 0.1296\n",
      "Epoch 72/1000\n",
      "\u001b[1m193/195\u001b[0m \u001b[32m━━━━━━━━━━━━━━━━━━━\u001b[0m\u001b[37m━\u001b[0m \u001b[1m0s\u001b[0m 4ms/step - accuracy: 0.9050 - loss: 0.2848\n",
      "Epoch 72: saving model to model/keypoint_classifier/keypoint_classifier.hdf5.keras\n",
      "\u001b[1m195/195\u001b[0m \u001b[32m━━━━━━━━━━━━━━━━━━━━\u001b[0m\u001b[37m\u001b[0m \u001b[1m1s\u001b[0m 6ms/step - accuracy: 0.9050 - loss: 0.2848 - val_accuracy: 0.9761 - val_loss: 0.1265\n",
      "Epoch 73/1000\n",
      "\u001b[1m187/195\u001b[0m \u001b[32m━━━━━━━━━━━━━━━━━━━\u001b[0m\u001b[37m━\u001b[0m \u001b[1m0s\u001b[0m 4ms/step - accuracy: 0.9055 - loss: 0.2870\n",
      "Epoch 73: saving model to model/keypoint_classifier/keypoint_classifier.hdf5.keras\n",
      "\u001b[1m195/195\u001b[0m \u001b[32m━━━━━━━━━━━━━━━━━━━━\u001b[0m\u001b[37m\u001b[0m \u001b[1m1s\u001b[0m 6ms/step - accuracy: 0.9056 - loss: 0.2868 - val_accuracy: 0.9764 - val_loss: 0.1294\n",
      "Epoch 74/1000\n",
      "\u001b[1m185/195\u001b[0m \u001b[32m━━━━━━━━━━━━━━━━━━\u001b[0m\u001b[37m━━\u001b[0m \u001b[1m0s\u001b[0m 4ms/step - accuracy: 0.9074 - loss: 0.2811\n",
      "Epoch 74: saving model to model/keypoint_classifier/keypoint_classifier.hdf5.keras\n",
      "\u001b[1m195/195\u001b[0m \u001b[32m━━━━━━━━━━━━━━━━━━━━\u001b[0m\u001b[37m\u001b[0m \u001b[1m1s\u001b[0m 5ms/step - accuracy: 0.9075 - loss: 0.2812 - val_accuracy: 0.9794 - val_loss: 0.1146\n",
      "Epoch 75/1000\n",
      "\u001b[1m183/195\u001b[0m \u001b[32m━━━━━━━━━━━━━━━━━━\u001b[0m\u001b[37m━━\u001b[0m \u001b[1m0s\u001b[0m 4ms/step - accuracy: 0.9056 - loss: 0.2834\n",
      "Epoch 75: saving model to model/keypoint_classifier/keypoint_classifier.hdf5.keras\n",
      "\u001b[1m195/195\u001b[0m \u001b[32m━━━━━━━━━━━━━━━━━━━━\u001b[0m\u001b[37m\u001b[0m \u001b[1m1s\u001b[0m 5ms/step - accuracy: 0.9056 - loss: 0.2834 - val_accuracy: 0.9779 - val_loss: 0.1205\n",
      "Epoch 76/1000\n",
      "\u001b[1m194/195\u001b[0m \u001b[32m━━━━━━━━━━━━━━━━━━━\u001b[0m\u001b[37m━\u001b[0m \u001b[1m0s\u001b[0m 5ms/step - accuracy: 0.9088 - loss: 0.2799\n",
      "Epoch 76: saving model to model/keypoint_classifier/keypoint_classifier.hdf5.keras\n",
      "\u001b[1m195/195\u001b[0m \u001b[32m━━━━━━━━━━━━━━━━━━━━\u001b[0m\u001b[37m\u001b[0m \u001b[1m1s\u001b[0m 6ms/step - accuracy: 0.9088 - loss: 0.2799 - val_accuracy: 0.9756 - val_loss: 0.1258\n",
      "Epoch 77/1000\n",
      "\u001b[1m193/195\u001b[0m \u001b[32m━━━━━━━━━━━━━━━━━━━\u001b[0m\u001b[37m━\u001b[0m \u001b[1m0s\u001b[0m 5ms/step - accuracy: 0.9093 - loss: 0.2704\n",
      "Epoch 77: saving model to model/keypoint_classifier/keypoint_classifier.hdf5.keras\n",
      "\u001b[1m195/195\u001b[0m \u001b[32m━━━━━━━━━━━━━━━━━━━━\u001b[0m\u001b[37m\u001b[0m \u001b[1m1s\u001b[0m 6ms/step - accuracy: 0.9093 - loss: 0.2705 - val_accuracy: 0.9767 - val_loss: 0.1239\n",
      "Epoch 78/1000\n",
      "\u001b[1m192/195\u001b[0m \u001b[32m━━━━━━━━━━━━━━━━━━━\u001b[0m\u001b[37m━\u001b[0m \u001b[1m0s\u001b[0m 4ms/step - accuracy: 0.9098 - loss: 0.2875\n",
      "Epoch 78: saving model to model/keypoint_classifier/keypoint_classifier.hdf5.keras\n",
      "\u001b[1m195/195\u001b[0m \u001b[32m━━━━━━━━━━━━━━━━━━━━\u001b[0m\u001b[37m\u001b[0m \u001b[1m1s\u001b[0m 6ms/step - accuracy: 0.9098 - loss: 0.2873 - val_accuracy: 0.9767 - val_loss: 0.1194\n",
      "Epoch 79/1000\n",
      "\u001b[1m190/195\u001b[0m \u001b[32m━━━━━━━━━━━━━━━━━━━\u001b[0m\u001b[37m━\u001b[0m \u001b[1m0s\u001b[0m 4ms/step - accuracy: 0.9085 - loss: 0.2840\n",
      "Epoch 79: saving model to model/keypoint_classifier/keypoint_classifier.hdf5.keras\n",
      "\u001b[1m195/195\u001b[0m \u001b[32m━━━━━━━━━━━━━━━━━━━━\u001b[0m\u001b[37m\u001b[0m \u001b[1m1s\u001b[0m 6ms/step - accuracy: 0.9086 - loss: 0.2838 - val_accuracy: 0.9797 - val_loss: 0.1175\n",
      "Epoch 80/1000\n",
      "\u001b[1m194/195\u001b[0m \u001b[32m━━━━━━━━━━━━━━━━━━━\u001b[0m\u001b[37m━\u001b[0m \u001b[1m0s\u001b[0m 5ms/step - accuracy: 0.9090 - loss: 0.2782\n",
      "Epoch 80: saving model to model/keypoint_classifier/keypoint_classifier.hdf5.keras\n",
      "\u001b[1m195/195\u001b[0m \u001b[32m━━━━━━━━━━━━━━━━━━━━\u001b[0m\u001b[37m\u001b[0m \u001b[1m1s\u001b[0m 7ms/step - accuracy: 0.9090 - loss: 0.2782 - val_accuracy: 0.9756 - val_loss: 0.1277\n",
      "Epoch 81/1000\n",
      "\u001b[1m190/195\u001b[0m \u001b[32m━━━━━━━━━━━━━━━━━━━\u001b[0m\u001b[37m━\u001b[0m \u001b[1m0s\u001b[0m 3ms/step - accuracy: 0.9142 - loss: 0.2726\n",
      "Epoch 81: saving model to model/keypoint_classifier/keypoint_classifier.hdf5.keras\n",
      "\u001b[1m195/195\u001b[0m \u001b[32m━━━━━━━━━━━━━━━━━━━━\u001b[0m\u001b[37m\u001b[0m \u001b[1m2s\u001b[0m 5ms/step - accuracy: 0.9141 - loss: 0.2726 - val_accuracy: 0.9733 - val_loss: 0.1282\n",
      "Epoch 82/1000\n",
      "\u001b[1m187/195\u001b[0m \u001b[32m━━━━━━━━━━━━━━━━━━━\u001b[0m\u001b[37m━\u001b[0m \u001b[1m0s\u001b[0m 3ms/step - accuracy: 0.9110 - loss: 0.2681\n",
      "Epoch 82: saving model to model/keypoint_classifier/keypoint_classifier.hdf5.keras\n",
      "\u001b[1m195/195\u001b[0m \u001b[32m━━━━━━━━━━━━━━━━━━━━\u001b[0m\u001b[37m\u001b[0m \u001b[1m1s\u001b[0m 4ms/step - accuracy: 0.9111 - loss: 0.2681 - val_accuracy: 0.9765 - val_loss: 0.1239\n",
      "Epoch 83/1000\n",
      "\u001b[1m195/195\u001b[0m \u001b[32m━━━━━━━━━━━━━━━━━━━━\u001b[0m\u001b[37m\u001b[0m \u001b[1m0s\u001b[0m 3ms/step - accuracy: 0.9086 - loss: 0.2746\n",
      "Epoch 83: saving model to model/keypoint_classifier/keypoint_classifier.hdf5.keras\n",
      "\u001b[1m195/195\u001b[0m \u001b[32m━━━━━━━━━━━━━━━━━━━━\u001b[0m\u001b[37m\u001b[0m \u001b[1m1s\u001b[0m 5ms/step - accuracy: 0.9086 - loss: 0.2745 - val_accuracy: 0.9785 - val_loss: 0.1162\n",
      "Epoch 84/1000\n",
      "\u001b[1m181/195\u001b[0m \u001b[32m━━━━━━━━━━━━━━━━━━\u001b[0m\u001b[37m━━\u001b[0m \u001b[1m0s\u001b[0m 3ms/step - accuracy: 0.9098 - loss: 0.2706\n",
      "Epoch 84: saving model to model/keypoint_classifier/keypoint_classifier.hdf5.keras\n",
      "\u001b[1m195/195\u001b[0m \u001b[32m━━━━━━━━━━━━━━━━━━━━\u001b[0m\u001b[37m\u001b[0m \u001b[1m1s\u001b[0m 5ms/step - accuracy: 0.9100 - loss: 0.2701 - val_accuracy: 0.9782 - val_loss: 0.1131\n",
      "Epoch 85/1000\n",
      "\u001b[1m176/195\u001b[0m \u001b[32m━━━━━━━━━━━━━━━━━━\u001b[0m\u001b[37m━━\u001b[0m \u001b[1m0s\u001b[0m 3ms/step - accuracy: 0.9153 - loss: 0.2628\n",
      "Epoch 85: saving model to model/keypoint_classifier/keypoint_classifier.hdf5.keras\n",
      "\u001b[1m195/195\u001b[0m \u001b[32m━━━━━━━━━━━━━━━━━━━━\u001b[0m\u001b[37m\u001b[0m \u001b[1m1s\u001b[0m 5ms/step - accuracy: 0.9151 - loss: 0.2631 - val_accuracy: 0.9755 - val_loss: 0.1197\n",
      "Epoch 86/1000\n",
      "\u001b[1m183/195\u001b[0m \u001b[32m━━━━━━━━━━━━━━━━━━\u001b[0m\u001b[37m━━\u001b[0m \u001b[1m0s\u001b[0m 3ms/step - accuracy: 0.9085 - loss: 0.2777\n",
      "Epoch 86: saving model to model/keypoint_classifier/keypoint_classifier.hdf5.keras\n",
      "\u001b[1m195/195\u001b[0m \u001b[32m━━━━━━━━━━━━━━━━━━━━\u001b[0m\u001b[37m\u001b[0m \u001b[1m1s\u001b[0m 6ms/step - accuracy: 0.9087 - loss: 0.2772 - val_accuracy: 0.9782 - val_loss: 0.1136\n",
      "Epoch 87/1000\n",
      "\u001b[1m195/195\u001b[0m \u001b[32m━━━━━━━━━━━━━━━━━━━━\u001b[0m\u001b[37m\u001b[0m \u001b[1m0s\u001b[0m 4ms/step - accuracy: 0.9172 - loss: 0.2582\n",
      "Epoch 87: saving model to model/keypoint_classifier/keypoint_classifier.hdf5.keras\n",
      "\u001b[1m195/195\u001b[0m \u001b[32m━━━━━━━━━━━━━━━━━━━━\u001b[0m\u001b[37m\u001b[0m \u001b[1m2s\u001b[0m 8ms/step - accuracy: 0.9172 - loss: 0.2583 - val_accuracy: 0.9739 - val_loss: 0.1193\n",
      "Epoch 88/1000\n",
      "\u001b[1m193/195\u001b[0m \u001b[32m━━━━━━━━━━━━━━━━━━━\u001b[0m\u001b[37m━\u001b[0m \u001b[1m0s\u001b[0m 4ms/step - accuracy: 0.9137 - loss: 0.2661\n",
      "Epoch 88: saving model to model/keypoint_classifier/keypoint_classifier.hdf5.keras\n",
      "\u001b[1m195/195\u001b[0m \u001b[32m━━━━━━━━━━━━━━━━━━━━\u001b[0m\u001b[37m\u001b[0m \u001b[1m1s\u001b[0m 5ms/step - accuracy: 0.9137 - loss: 0.2660 - val_accuracy: 0.9745 - val_loss: 0.1176\n",
      "Epoch 89/1000\n",
      "\u001b[1m181/195\u001b[0m \u001b[32m━━━━━━━━━━━━━━━━━━\u001b[0m\u001b[37m━━\u001b[0m \u001b[1m0s\u001b[0m 3ms/step - accuracy: 0.9130 - loss: 0.2670\n",
      "Epoch 89: saving model to model/keypoint_classifier/keypoint_classifier.hdf5.keras\n",
      "\u001b[1m195/195\u001b[0m \u001b[32m━━━━━━━━━━━━━━━━━━━━\u001b[0m\u001b[37m\u001b[0m \u001b[1m1s\u001b[0m 4ms/step - accuracy: 0.9130 - loss: 0.2669 - val_accuracy: 0.9802 - val_loss: 0.1082\n",
      "Epoch 90/1000\n",
      "\u001b[1m183/195\u001b[0m \u001b[32m━━━━━━━━━━━━━━━━━━\u001b[0m\u001b[37m━━\u001b[0m \u001b[1m0s\u001b[0m 4ms/step - accuracy: 0.9135 - loss: 0.2628\n",
      "Epoch 90: saving model to model/keypoint_classifier/keypoint_classifier.hdf5.keras\n",
      "\u001b[1m195/195\u001b[0m \u001b[32m━━━━━━━━━━━━━━━━━━━━\u001b[0m\u001b[37m\u001b[0m \u001b[1m1s\u001b[0m 5ms/step - accuracy: 0.9135 - loss: 0.2630 - val_accuracy: 0.9718 - val_loss: 0.1194\n",
      "Epoch 91/1000\n",
      "\u001b[1m192/195\u001b[0m \u001b[32m━━━━━━━━━━━━━━━━━━━\u001b[0m\u001b[37m━\u001b[0m \u001b[1m0s\u001b[0m 3ms/step - accuracy: 0.9162 - loss: 0.2577\n",
      "Epoch 91: saving model to model/keypoint_classifier/keypoint_classifier.hdf5.keras\n",
      "\u001b[1m195/195\u001b[0m \u001b[32m━━━━━━━━━━━━━━━━━━━━\u001b[0m\u001b[37m\u001b[0m \u001b[1m1s\u001b[0m 5ms/step - accuracy: 0.9162 - loss: 0.2578 - val_accuracy: 0.9709 - val_loss: 0.1341\n",
      "Epoch 92/1000\n",
      "\u001b[1m180/195\u001b[0m \u001b[32m━━━━━━━━━━━━━━━━━━\u001b[0m\u001b[37m━━\u001b[0m \u001b[1m0s\u001b[0m 3ms/step - accuracy: 0.9149 - loss: 0.2623\n",
      "Epoch 92: saving model to model/keypoint_classifier/keypoint_classifier.hdf5.keras\n",
      "\u001b[1m195/195\u001b[0m \u001b[32m━━━━━━━━━━━━━━━━━━━━\u001b[0m\u001b[37m\u001b[0m \u001b[1m1s\u001b[0m 5ms/step - accuracy: 0.9149 - loss: 0.2624 - val_accuracy: 0.9809 - val_loss: 0.1074\n",
      "Epoch 93/1000\n",
      "\u001b[1m182/195\u001b[0m \u001b[32m━━━━━━━━━━━━━━━━━━\u001b[0m\u001b[37m━━\u001b[0m \u001b[1m0s\u001b[0m 3ms/step - accuracy: 0.9124 - loss: 0.2642\n",
      "Epoch 93: saving model to model/keypoint_classifier/keypoint_classifier.hdf5.keras\n",
      "\u001b[1m195/195\u001b[0m \u001b[32m━━━━━━━━━━━━━━━━━━━━\u001b[0m\u001b[37m\u001b[0m \u001b[1m1s\u001b[0m 5ms/step - accuracy: 0.9125 - loss: 0.2642 - val_accuracy: 0.9778 - val_loss: 0.1213\n",
      "Epoch 94/1000\n",
      "\u001b[1m194/195\u001b[0m \u001b[32m━━━━━━━━━━━━━━━━━━━\u001b[0m\u001b[37m━\u001b[0m \u001b[1m0s\u001b[0m 4ms/step - accuracy: 0.9163 - loss: 0.2575\n",
      "Epoch 94: saving model to model/keypoint_classifier/keypoint_classifier.hdf5.keras\n",
      "\u001b[1m195/195\u001b[0m \u001b[32m━━━━━━━━━━━━━━━━━━━━\u001b[0m\u001b[37m\u001b[0m \u001b[1m1s\u001b[0m 7ms/step - accuracy: 0.9163 - loss: 0.2575 - val_accuracy: 0.9758 - val_loss: 0.1205\n",
      "Epoch 95/1000\n",
      "\u001b[1m189/195\u001b[0m \u001b[32m━━━━━━━━━━━━━━━━━━━\u001b[0m\u001b[37m━\u001b[0m \u001b[1m0s\u001b[0m 3ms/step - accuracy: 0.9149 - loss: 0.2668\n",
      "Epoch 95: saving model to model/keypoint_classifier/keypoint_classifier.hdf5.keras\n",
      "\u001b[1m195/195\u001b[0m \u001b[32m━━━━━━━━━━━━━━━━━━━━\u001b[0m\u001b[37m\u001b[0m \u001b[1m2s\u001b[0m 5ms/step - accuracy: 0.9149 - loss: 0.2666 - val_accuracy: 0.9717 - val_loss: 0.1269\n",
      "Epoch 96/1000\n",
      "\u001b[1m193/195\u001b[0m \u001b[32m━━━━━━━━━━━━━━━━━━━\u001b[0m\u001b[37m━\u001b[0m \u001b[1m0s\u001b[0m 3ms/step - accuracy: 0.9154 - loss: 0.2564\n",
      "Epoch 96: saving model to model/keypoint_classifier/keypoint_classifier.hdf5.keras\n",
      "\u001b[1m195/195\u001b[0m \u001b[32m━━━━━━━━━━━━━━━━━━━━\u001b[0m\u001b[37m\u001b[0m \u001b[1m1s\u001b[0m 5ms/step - accuracy: 0.9154 - loss: 0.2565 - val_accuracy: 0.9619 - val_loss: 0.1389\n",
      "Epoch 97/1000\n",
      "\u001b[1m187/195\u001b[0m \u001b[32m━━━━━━━━━━━━━━━━━━━\u001b[0m\u001b[37m━\u001b[0m \u001b[1m0s\u001b[0m 3ms/step - accuracy: 0.9143 - loss: 0.2603\n",
      "Epoch 97: saving model to model/keypoint_classifier/keypoint_classifier.hdf5.keras\n",
      "\u001b[1m195/195\u001b[0m \u001b[32m━━━━━━━━━━━━━━━━━━━━\u001b[0m\u001b[37m\u001b[0m \u001b[1m1s\u001b[0m 4ms/step - accuracy: 0.9143 - loss: 0.2603 - val_accuracy: 0.9774 - val_loss: 0.1213\n",
      "Epoch 98/1000\n",
      "\u001b[1m191/195\u001b[0m \u001b[32m━━━━━━━━━━━━━━━━━━━\u001b[0m\u001b[37m━\u001b[0m \u001b[1m0s\u001b[0m 3ms/step - accuracy: 0.9133 - loss: 0.2658\n",
      "Epoch 98: saving model to model/keypoint_classifier/keypoint_classifier.hdf5.keras\n",
      "\u001b[1m195/195\u001b[0m \u001b[32m━━━━━━━━━━━━━━━━━━━━\u001b[0m\u001b[37m\u001b[0m \u001b[1m1s\u001b[0m 5ms/step - accuracy: 0.9134 - loss: 0.2656 - val_accuracy: 0.9772 - val_loss: 0.1120\n",
      "Epoch 99/1000\n",
      "\u001b[1m193/195\u001b[0m \u001b[32m━━━━━━━━━━━━━━━━━━━\u001b[0m\u001b[37m━\u001b[0m \u001b[1m0s\u001b[0m 3ms/step - accuracy: 0.9165 - loss: 0.2555\n",
      "Epoch 99: saving model to model/keypoint_classifier/keypoint_classifier.hdf5.keras\n",
      "\u001b[1m195/195\u001b[0m \u001b[32m━━━━━━━━━━━━━━━━━━━━\u001b[0m\u001b[37m\u001b[0m \u001b[1m1s\u001b[0m 5ms/step - accuracy: 0.9165 - loss: 0.2556 - val_accuracy: 0.9790 - val_loss: 0.1098\n",
      "Epoch 100/1000\n",
      "\u001b[1m184/195\u001b[0m \u001b[32m━━━━━━━━━━━━━━━━━━\u001b[0m\u001b[37m━━\u001b[0m \u001b[1m0s\u001b[0m 3ms/step - accuracy: 0.9192 - loss: 0.2516\n",
      "Epoch 100: saving model to model/keypoint_classifier/keypoint_classifier.hdf5.keras\n",
      "\u001b[1m195/195\u001b[0m \u001b[32m━━━━━━━━━━━━━━━━━━━━\u001b[0m\u001b[37m\u001b[0m \u001b[1m1s\u001b[0m 5ms/step - accuracy: 0.9191 - loss: 0.2517 - val_accuracy: 0.9770 - val_loss: 0.1109\n",
      "Epoch 101/1000\n",
      "\u001b[1m177/195\u001b[0m \u001b[32m━━━━━━━━━━━━━━━━━━\u001b[0m\u001b[37m━━\u001b[0m \u001b[1m0s\u001b[0m 3ms/step - accuracy: 0.9169 - loss: 0.2525\n",
      "Epoch 101: saving model to model/keypoint_classifier/keypoint_classifier.hdf5.keras\n",
      "\u001b[1m195/195\u001b[0m \u001b[32m━━━━━━━━━━━━━━━━━━━━\u001b[0m\u001b[37m\u001b[0m \u001b[1m1s\u001b[0m 5ms/step - accuracy: 0.9171 - loss: 0.2523 - val_accuracy: 0.9753 - val_loss: 0.1191\n",
      "Epoch 102/1000\n",
      "\u001b[1m190/195\u001b[0m \u001b[32m━━━━━━━━━━━━━━━━━━━\u001b[0m\u001b[37m━\u001b[0m \u001b[1m0s\u001b[0m 3ms/step - accuracy: 0.9181 - loss: 0.2523\n",
      "Epoch 102: saving model to model/keypoint_classifier/keypoint_classifier.hdf5.keras\n",
      "\u001b[1m195/195\u001b[0m \u001b[32m━━━━━━━━━━━━━━━━━━━━\u001b[0m\u001b[37m\u001b[0m \u001b[1m1s\u001b[0m 5ms/step - accuracy: 0.9182 - loss: 0.2522 - val_accuracy: 0.9790 - val_loss: 0.1112\n",
      "Epoch 103/1000\n",
      "\u001b[1m191/195\u001b[0m \u001b[32m━━━━━━━━━━━━━━━━━━━\u001b[0m\u001b[37m━\u001b[0m \u001b[1m0s\u001b[0m 3ms/step - accuracy: 0.9177 - loss: 0.2530\n",
      "Epoch 103: saving model to model/keypoint_classifier/keypoint_classifier.hdf5.keras\n",
      "\u001b[1m195/195\u001b[0m \u001b[32m━━━━━━━━━━━━━━━━━━━━\u001b[0m\u001b[37m\u001b[0m \u001b[1m1s\u001b[0m 5ms/step - accuracy: 0.9177 - loss: 0.2528 - val_accuracy: 0.9795 - val_loss: 0.1064\n",
      "Epoch 104/1000\n",
      "\u001b[1m184/195\u001b[0m \u001b[32m━━━━━━━━━━━━━━━━━━\u001b[0m\u001b[37m━━\u001b[0m \u001b[1m0s\u001b[0m 3ms/step - accuracy: 0.9204 - loss: 0.2410\n",
      "Epoch 104: saving model to model/keypoint_classifier/keypoint_classifier.hdf5.keras\n",
      "\u001b[1m195/195\u001b[0m \u001b[32m━━━━━━━━━━━━━━━━━━━━\u001b[0m\u001b[37m\u001b[0m \u001b[1m1s\u001b[0m 5ms/step - accuracy: 0.9202 - loss: 0.2413 - val_accuracy: 0.9812 - val_loss: 0.1049\n",
      "Epoch 105/1000\n",
      "\u001b[1m183/195\u001b[0m \u001b[32m━━━━━━━━━━━━━━━━━━\u001b[0m\u001b[37m━━\u001b[0m \u001b[1m0s\u001b[0m 3ms/step - accuracy: 0.9185 - loss: 0.2474\n",
      "Epoch 105: saving model to model/keypoint_classifier/keypoint_classifier.hdf5.keras\n",
      "\u001b[1m195/195\u001b[0m \u001b[32m━━━━━━━━━━━━━━━━━━━━\u001b[0m\u001b[37m\u001b[0m \u001b[1m1s\u001b[0m 5ms/step - accuracy: 0.9185 - loss: 0.2473 - val_accuracy: 0.9747 - val_loss: 0.1221\n",
      "Epoch 106/1000\n",
      "\u001b[1m183/195\u001b[0m \u001b[32m━━━━━━━━━━━━━━━━━━\u001b[0m\u001b[37m━━\u001b[0m \u001b[1m0s\u001b[0m 3ms/step - accuracy: 0.9167 - loss: 0.2517\n",
      "Epoch 106: saving model to model/keypoint_classifier/keypoint_classifier.hdf5.keras\n",
      "\u001b[1m195/195\u001b[0m \u001b[32m━━━━━━━━━━━━━━━━━━━━\u001b[0m\u001b[37m\u001b[0m \u001b[1m1s\u001b[0m 5ms/step - accuracy: 0.9167 - loss: 0.2519 - val_accuracy: 0.9765 - val_loss: 0.1116\n",
      "Epoch 107/1000\n",
      "\u001b[1m183/195\u001b[0m \u001b[32m━━━━━━━━━━━━━━━━━━\u001b[0m\u001b[37m━━\u001b[0m \u001b[1m0s\u001b[0m 3ms/step - accuracy: 0.9197 - loss: 0.2490\n",
      "Epoch 107: saving model to model/keypoint_classifier/keypoint_classifier.hdf5.keras\n",
      "\u001b[1m195/195\u001b[0m \u001b[32m━━━━━━━━━━━━━━━━━━━━\u001b[0m\u001b[37m\u001b[0m \u001b[1m1s\u001b[0m 5ms/step - accuracy: 0.9196 - loss: 0.2491 - val_accuracy: 0.9700 - val_loss: 0.1184\n",
      "Epoch 108/1000\n",
      "\u001b[1m180/195\u001b[0m \u001b[32m━━━━━━━━━━━━━━━━━━\u001b[0m\u001b[37m━━\u001b[0m \u001b[1m0s\u001b[0m 3ms/step - accuracy: 0.9195 - loss: 0.2445\n",
      "Epoch 108: saving model to model/keypoint_classifier/keypoint_classifier.hdf5.keras\n",
      "\u001b[1m195/195\u001b[0m \u001b[32m━━━━━━━━━━━━━━━━━━━━\u001b[0m\u001b[37m\u001b[0m \u001b[1m1s\u001b[0m 5ms/step - accuracy: 0.9194 - loss: 0.2448 - val_accuracy: 0.9741 - val_loss: 0.1276\n",
      "Epoch 109/1000\n",
      "\u001b[1m179/195\u001b[0m \u001b[32m━━━━━━━━━━━━━━━━━━\u001b[0m\u001b[37m━━\u001b[0m \u001b[1m0s\u001b[0m 3ms/step - accuracy: 0.9210 - loss: 0.2506\n",
      "Epoch 109: saving model to model/keypoint_classifier/keypoint_classifier.hdf5.keras\n",
      "\u001b[1m195/195\u001b[0m \u001b[32m━━━━━━━━━━━━━━━━━━━━\u001b[0m\u001b[37m\u001b[0m \u001b[1m1s\u001b[0m 5ms/step - accuracy: 0.9210 - loss: 0.2500 - val_accuracy: 0.9815 - val_loss: 0.1123\n",
      "Epoch 110/1000\n",
      "\u001b[1m185/195\u001b[0m \u001b[32m━━━━━━━━━━━━━━━━━━\u001b[0m\u001b[37m━━\u001b[0m \u001b[1m0s\u001b[0m 3ms/step - accuracy: 0.9215 - loss: 0.2376\n",
      "Epoch 110: saving model to model/keypoint_classifier/keypoint_classifier.hdf5.keras\n",
      "\u001b[1m195/195\u001b[0m \u001b[32m━━━━━━━━━━━━━━━━━━━━\u001b[0m\u001b[37m\u001b[0m \u001b[1m1s\u001b[0m 5ms/step - accuracy: 0.9213 - loss: 0.2380 - val_accuracy: 0.9721 - val_loss: 0.1199\n",
      "Epoch 111/1000\n",
      "\u001b[1m177/195\u001b[0m \u001b[32m━━━━━━━━━━━━━━━━━━\u001b[0m\u001b[37m━━\u001b[0m \u001b[1m0s\u001b[0m 3ms/step - accuracy: 0.9226 - loss: 0.2374\n",
      "Epoch 111: saving model to model/keypoint_classifier/keypoint_classifier.hdf5.keras\n",
      "\u001b[1m195/195\u001b[0m \u001b[32m━━━━━━━━━━━━━━━━━━━━\u001b[0m\u001b[37m\u001b[0m \u001b[1m1s\u001b[0m 5ms/step - accuracy: 0.9225 - loss: 0.2372 - val_accuracy: 0.9713 - val_loss: 0.1169\n",
      "Epoch 112/1000\n",
      "\u001b[1m190/195\u001b[0m \u001b[32m━━━━━━━━━━━━━━━━━━━\u001b[0m\u001b[37m━\u001b[0m \u001b[1m0s\u001b[0m 3ms/step - accuracy: 0.9194 - loss: 0.2499\n",
      "Epoch 112: saving model to model/keypoint_classifier/keypoint_classifier.hdf5.keras\n",
      "\u001b[1m195/195\u001b[0m \u001b[32m━━━━━━━━━━━━━━━━━━━━\u001b[0m\u001b[37m\u001b[0m \u001b[1m1s\u001b[0m 5ms/step - accuracy: 0.9194 - loss: 0.2498 - val_accuracy: 0.9755 - val_loss: 0.1173\n",
      "Epoch 113/1000\n",
      "\u001b[1m188/195\u001b[0m \u001b[32m━━━━━━━━━━━━━━━━━━━\u001b[0m\u001b[37m━\u001b[0m \u001b[1m0s\u001b[0m 3ms/step - accuracy: 0.9155 - loss: 0.2526\n",
      "Epoch 113: saving model to model/keypoint_classifier/keypoint_classifier.hdf5.keras\n",
      "\u001b[1m195/195\u001b[0m \u001b[32m━━━━━━━━━━━━━━━━━━━━\u001b[0m\u001b[37m\u001b[0m \u001b[1m1s\u001b[0m 5ms/step - accuracy: 0.9156 - loss: 0.2524 - val_accuracy: 0.9732 - val_loss: 0.1176\n",
      "Epoch 114/1000\n",
      "\u001b[1m189/195\u001b[0m \u001b[32m━━━━━━━━━━━━━━━━━━━\u001b[0m\u001b[37m━\u001b[0m \u001b[1m0s\u001b[0m 3ms/step - accuracy: 0.9196 - loss: 0.2357\n",
      "Epoch 114: saving model to model/keypoint_classifier/keypoint_classifier.hdf5.keras\n",
      "\u001b[1m195/195\u001b[0m \u001b[32m━━━━━━━━━━━━━━━━━━━━\u001b[0m\u001b[37m\u001b[0m \u001b[1m1s\u001b[0m 5ms/step - accuracy: 0.9196 - loss: 0.2359 - val_accuracy: 0.9706 - val_loss: 0.1217\n",
      "Epoch 115/1000\n",
      "\u001b[1m191/195\u001b[0m \u001b[32m━━━━━━━━━━━━━━━━━━━\u001b[0m\u001b[37m━\u001b[0m \u001b[1m0s\u001b[0m 3ms/step - accuracy: 0.9177 - loss: 0.2498\n",
      "Epoch 115: saving model to model/keypoint_classifier/keypoint_classifier.hdf5.keras\n",
      "\u001b[1m195/195\u001b[0m \u001b[32m━━━━━━━━━━━━━━━━━━━━\u001b[0m\u001b[37m\u001b[0m \u001b[1m1s\u001b[0m 5ms/step - accuracy: 0.9178 - loss: 0.2496 - val_accuracy: 0.9756 - val_loss: 0.1247\n",
      "Epoch 116/1000\n",
      "\u001b[1m185/195\u001b[0m \u001b[32m━━━━━━━━━━━━━━━━━━\u001b[0m\u001b[37m━━\u001b[0m \u001b[1m0s\u001b[0m 3ms/step - accuracy: 0.9249 - loss: 0.2408\n",
      "Epoch 116: saving model to model/keypoint_classifier/keypoint_classifier.hdf5.keras\n",
      "\u001b[1m195/195\u001b[0m \u001b[32m━━━━━━━━━━━━━━━━━━━━\u001b[0m\u001b[37m\u001b[0m \u001b[1m1s\u001b[0m 5ms/step - accuracy: 0.9248 - loss: 0.2408 - val_accuracy: 0.9745 - val_loss: 0.1157\n",
      "Epoch 117/1000\n",
      "\u001b[1m188/195\u001b[0m \u001b[32m━━━━━━━━━━━━━━━━━━━\u001b[0m\u001b[37m━\u001b[0m \u001b[1m0s\u001b[0m 3ms/step - accuracy: 0.9269 - loss: 0.2373\n",
      "Epoch 117: saving model to model/keypoint_classifier/keypoint_classifier.hdf5.keras\n",
      "\u001b[1m195/195\u001b[0m \u001b[32m━━━━━━━━━━━━━━━━━━━━\u001b[0m\u001b[37m\u001b[0m \u001b[1m1s\u001b[0m 5ms/step - accuracy: 0.9268 - loss: 0.2374 - val_accuracy: 0.9774 - val_loss: 0.1066\n",
      "Epoch 118/1000\n",
      "\u001b[1m175/195\u001b[0m \u001b[32m━━━━━━━━━━━━━━━━━\u001b[0m\u001b[37m━━━\u001b[0m \u001b[1m0s\u001b[0m 3ms/step - accuracy: 0.9225 - loss: 0.2372\n",
      "Epoch 118: saving model to model/keypoint_classifier/keypoint_classifier.hdf5.keras\n",
      "\u001b[1m195/195\u001b[0m \u001b[32m━━━━━━━━━━━━━━━━━━━━\u001b[0m\u001b[37m\u001b[0m \u001b[1m1s\u001b[0m 5ms/step - accuracy: 0.9223 - loss: 0.2378 - val_accuracy: 0.9793 - val_loss: 0.1021\n",
      "Epoch 119/1000\n",
      "\u001b[1m189/195\u001b[0m \u001b[32m━━━━━━━━━━━━━━━━━━━\u001b[0m\u001b[37m━\u001b[0m \u001b[1m0s\u001b[0m 3ms/step - accuracy: 0.9203 - loss: 0.2445\n",
      "Epoch 119: saving model to model/keypoint_classifier/keypoint_classifier.hdf5.keras\n",
      "\u001b[1m195/195\u001b[0m \u001b[32m━━━━━━━━━━━━━━━━━━━━\u001b[0m\u001b[37m\u001b[0m \u001b[1m1s\u001b[0m 5ms/step - accuracy: 0.9204 - loss: 0.2445 - val_accuracy: 0.9778 - val_loss: 0.1113\n",
      "Epoch 120/1000\n",
      "\u001b[1m188/195\u001b[0m \u001b[32m━━━━━━━━━━━━━━━━━━━\u001b[0m\u001b[37m━\u001b[0m \u001b[1m0s\u001b[0m 3ms/step - accuracy: 0.9240 - loss: 0.2332\n",
      "Epoch 120: saving model to model/keypoint_classifier/keypoint_classifier.hdf5.keras\n",
      "\u001b[1m195/195\u001b[0m \u001b[32m━━━━━━━━━━━━━━━━━━━━\u001b[0m\u001b[37m\u001b[0m \u001b[1m1s\u001b[0m 5ms/step - accuracy: 0.9239 - loss: 0.2333 - val_accuracy: 0.9729 - val_loss: 0.1139\n",
      "Epoch 121/1000\n",
      "\u001b[1m195/195\u001b[0m \u001b[32m━━━━━━━━━━━━━━━━━━━━\u001b[0m\u001b[37m\u001b[0m \u001b[1m0s\u001b[0m 4ms/step - accuracy: 0.9215 - loss: 0.2355\n",
      "Epoch 121: saving model to model/keypoint_classifier/keypoint_classifier.hdf5.keras\n",
      "\u001b[1m195/195\u001b[0m \u001b[32m━━━━━━━━━━━━━━━━━━━━\u001b[0m\u001b[37m\u001b[0m \u001b[1m2s\u001b[0m 7ms/step - accuracy: 0.9215 - loss: 0.2355 - val_accuracy: 0.9723 - val_loss: 0.1208\n",
      "Epoch 122/1000\n",
      "\u001b[1m181/195\u001b[0m \u001b[32m━━━━━━━━━━━━━━━━━━\u001b[0m\u001b[37m━━\u001b[0m \u001b[1m0s\u001b[0m 3ms/step - accuracy: 0.9213 - loss: 0.2385\n",
      "Epoch 122: saving model to model/keypoint_classifier/keypoint_classifier.hdf5.keras\n",
      "\u001b[1m195/195\u001b[0m \u001b[32m━━━━━━━━━━━━━━━━━━━━\u001b[0m\u001b[37m\u001b[0m \u001b[1m1s\u001b[0m 6ms/step - accuracy: 0.9213 - loss: 0.2380 - val_accuracy: 0.9767 - val_loss: 0.1124\n",
      "Epoch 123/1000\n",
      "\u001b[1m180/195\u001b[0m \u001b[32m━━━━━━━━━━━━━━━━━━\u001b[0m\u001b[37m━━\u001b[0m \u001b[1m0s\u001b[0m 3ms/step - accuracy: 0.9228 - loss: 0.2379\n",
      "Epoch 123: saving model to model/keypoint_classifier/keypoint_classifier.hdf5.keras\n",
      "\u001b[1m195/195\u001b[0m \u001b[32m━━━━━━━━━━━━━━━━━━━━\u001b[0m\u001b[37m\u001b[0m \u001b[1m1s\u001b[0m 5ms/step - accuracy: 0.9229 - loss: 0.2377 - val_accuracy: 0.9790 - val_loss: 0.1096\n",
      "Epoch 124/1000\n",
      "\u001b[1m183/195\u001b[0m \u001b[32m━━━━━━━━━━━━━━━━━━\u001b[0m\u001b[37m━━\u001b[0m \u001b[1m0s\u001b[0m 3ms/step - accuracy: 0.9247 - loss: 0.2348\n",
      "Epoch 124: saving model to model/keypoint_classifier/keypoint_classifier.hdf5.keras\n",
      "\u001b[1m195/195\u001b[0m \u001b[32m━━━━━━━━━━━━━━━━━━━━\u001b[0m\u001b[37m\u001b[0m \u001b[1m1s\u001b[0m 5ms/step - accuracy: 0.9246 - loss: 0.2346 - val_accuracy: 0.9761 - val_loss: 0.1142\n",
      "Epoch 125/1000\n",
      "\u001b[1m195/195\u001b[0m \u001b[32m━━━━━━━━━━━━━━━━━━━━\u001b[0m\u001b[37m\u001b[0m \u001b[1m0s\u001b[0m 5ms/step - accuracy: 0.9221 - loss: 0.2393\n",
      "Epoch 125: saving model to model/keypoint_classifier/keypoint_classifier.hdf5.keras\n",
      "\u001b[1m195/195\u001b[0m \u001b[32m━━━━━━━━━━━━━━━━━━━━\u001b[0m\u001b[37m\u001b[0m \u001b[1m1s\u001b[0m 7ms/step - accuracy: 0.9221 - loss: 0.2393 - val_accuracy: 0.9727 - val_loss: 0.1169\n",
      "Epoch 126/1000\n",
      "\u001b[1m187/195\u001b[0m \u001b[32m━━━━━━━━━━━━━━━━━━━\u001b[0m\u001b[37m━\u001b[0m \u001b[1m0s\u001b[0m 4ms/step - accuracy: 0.9225 - loss: 0.2348\n",
      "Epoch 126: saving model to model/keypoint_classifier/keypoint_classifier.hdf5.keras\n",
      "\u001b[1m195/195\u001b[0m \u001b[32m━━━━━━━━━━━━━━━━━━━━\u001b[0m\u001b[37m\u001b[0m \u001b[1m1s\u001b[0m 6ms/step - accuracy: 0.9223 - loss: 0.2352 - val_accuracy: 0.9737 - val_loss: 0.1194\n",
      "Epoch 127/1000\n",
      "\u001b[1m186/195\u001b[0m \u001b[32m━━━━━━━━━━━━━━━━━━━\u001b[0m\u001b[37m━\u001b[0m \u001b[1m0s\u001b[0m 4ms/step - accuracy: 0.9246 - loss: 0.2298\n",
      "Epoch 127: saving model to model/keypoint_classifier/keypoint_classifier.hdf5.keras\n",
      "\u001b[1m195/195\u001b[0m \u001b[32m━━━━━━━━━━━━━━━━━━━━\u001b[0m\u001b[37m\u001b[0m \u001b[1m1s\u001b[0m 6ms/step - accuracy: 0.9245 - loss: 0.2300 - val_accuracy: 0.9782 - val_loss: 0.1094\n",
      "Epoch 128/1000\n",
      "\u001b[1m175/195\u001b[0m \u001b[32m━━━━━━━━━━━━━━━━━\u001b[0m\u001b[37m━━━\u001b[0m \u001b[1m0s\u001b[0m 4ms/step - accuracy: 0.9218 - loss: 0.2400\n",
      "Epoch 128: saving model to model/keypoint_classifier/keypoint_classifier.hdf5.keras\n",
      "\u001b[1m195/195\u001b[0m \u001b[32m━━━━━━━━━━━━━━━━━━━━\u001b[0m\u001b[37m\u001b[0m \u001b[1m1s\u001b[0m 6ms/step - accuracy: 0.9221 - loss: 0.2392 - val_accuracy: 0.9819 - val_loss: 0.1008\n",
      "Epoch 129/1000\n",
      "\u001b[1m181/195\u001b[0m \u001b[32m━━━━━━━━━━━━━━━━━━\u001b[0m\u001b[37m━━\u001b[0m \u001b[1m0s\u001b[0m 3ms/step - accuracy: 0.9261 - loss: 0.2261\n",
      "Epoch 129: saving model to model/keypoint_classifier/keypoint_classifier.hdf5.keras\n",
      "\u001b[1m195/195\u001b[0m \u001b[32m━━━━━━━━━━━━━━━━━━━━\u001b[0m\u001b[37m\u001b[0m \u001b[1m1s\u001b[0m 6ms/step - accuracy: 0.9260 - loss: 0.2263 - val_accuracy: 0.9721 - val_loss: 0.1176\n",
      "Epoch 130/1000\n",
      "\u001b[1m186/195\u001b[0m \u001b[32m━━━━━━━━━━━━━━━━━━━\u001b[0m\u001b[37m━\u001b[0m \u001b[1m0s\u001b[0m 4ms/step - accuracy: 0.9279 - loss: 0.2208\n",
      "Epoch 130: saving model to model/keypoint_classifier/keypoint_classifier.hdf5.keras\n",
      "\u001b[1m195/195\u001b[0m \u001b[32m━━━━━━━━━━━━━━━━━━━━\u001b[0m\u001b[37m\u001b[0m \u001b[1m1s\u001b[0m 6ms/step - accuracy: 0.9278 - loss: 0.2212 - val_accuracy: 0.9748 - val_loss: 0.1136\n",
      "Epoch 131/1000\n",
      "\u001b[1m183/195\u001b[0m \u001b[32m━━━━━━━━━━━━━━━━━━\u001b[0m\u001b[37m━━\u001b[0m \u001b[1m0s\u001b[0m 3ms/step - accuracy: 0.9273 - loss: 0.2296\n",
      "Epoch 131: saving model to model/keypoint_classifier/keypoint_classifier.hdf5.keras\n",
      "\u001b[1m195/195\u001b[0m \u001b[32m━━━━━━━━━━━━━━━━━━━━\u001b[0m\u001b[37m\u001b[0m \u001b[1m1s\u001b[0m 6ms/step - accuracy: 0.9272 - loss: 0.2297 - val_accuracy: 0.9689 - val_loss: 0.1244\n",
      "Epoch 132/1000\n",
      "\u001b[1m191/195\u001b[0m \u001b[32m━━━━━━━━━━━━━━━━━━━\u001b[0m\u001b[37m━\u001b[0m \u001b[1m0s\u001b[0m 4ms/step - accuracy: 0.9284 - loss: 0.2267\n",
      "Epoch 132: saving model to model/keypoint_classifier/keypoint_classifier.hdf5.keras\n",
      "\u001b[1m195/195\u001b[0m \u001b[32m━━━━━━━━━━━━━━━━━━━━\u001b[0m\u001b[37m\u001b[0m \u001b[1m1s\u001b[0m 6ms/step - accuracy: 0.9284 - loss: 0.2267 - val_accuracy: 0.9812 - val_loss: 0.1052\n",
      "Epoch 133/1000\n",
      "\u001b[1m185/195\u001b[0m \u001b[32m━━━━━━━━━━━━━━━━━━\u001b[0m\u001b[37m━━\u001b[0m \u001b[1m0s\u001b[0m 4ms/step - accuracy: 0.9287 - loss: 0.2346\n",
      "Epoch 133: saving model to model/keypoint_classifier/keypoint_classifier.hdf5.keras\n",
      "\u001b[1m195/195\u001b[0m \u001b[32m━━━━━━━━━━━━━━━━━━━━\u001b[0m\u001b[37m\u001b[0m \u001b[1m1s\u001b[0m 6ms/step - accuracy: 0.9286 - loss: 0.2341 - val_accuracy: 0.9779 - val_loss: 0.1138\n",
      "Epoch 134/1000\n",
      "\u001b[1m195/195\u001b[0m \u001b[32m━━━━━━━━━━━━━━━━━━━━\u001b[0m\u001b[37m\u001b[0m \u001b[1m0s\u001b[0m 4ms/step - accuracy: 0.9263 - loss: 0.2269\n",
      "Epoch 134: saving model to model/keypoint_classifier/keypoint_classifier.hdf5.keras\n",
      "\u001b[1m195/195\u001b[0m \u001b[32m━━━━━━━━━━━━━━━━━━━━\u001b[0m\u001b[37m\u001b[0m \u001b[1m1s\u001b[0m 6ms/step - accuracy: 0.9263 - loss: 0.2269 - val_accuracy: 0.9695 - val_loss: 0.1321\n",
      "Epoch 135/1000\n",
      "\u001b[1m184/195\u001b[0m \u001b[32m━━━━━━━━━━━━━━━━━━\u001b[0m\u001b[37m━━\u001b[0m \u001b[1m0s\u001b[0m 4ms/step - accuracy: 0.9280 - loss: 0.2237\n",
      "Epoch 135: saving model to model/keypoint_classifier/keypoint_classifier.hdf5.keras\n",
      "\u001b[1m195/195\u001b[0m \u001b[32m━━━━━━━━━━━━━━━━━━━━\u001b[0m\u001b[37m\u001b[0m \u001b[1m1s\u001b[0m 6ms/step - accuracy: 0.9279 - loss: 0.2241 - val_accuracy: 0.9707 - val_loss: 0.1258\n",
      "Epoch 136/1000\n",
      "\u001b[1m186/195\u001b[0m \u001b[32m━━━━━━━━━━━━━━━━━━━\u001b[0m\u001b[37m━\u001b[0m \u001b[1m0s\u001b[0m 4ms/step - accuracy: 0.9277 - loss: 0.2200\n",
      "Epoch 136: saving model to model/keypoint_classifier/keypoint_classifier.hdf5.keras\n",
      "\u001b[1m195/195\u001b[0m \u001b[32m━━━━━━━━━━━━━━━━━━━━\u001b[0m\u001b[37m\u001b[0m \u001b[1m1s\u001b[0m 5ms/step - accuracy: 0.9277 - loss: 0.2203 - val_accuracy: 0.9783 - val_loss: 0.1084\n",
      "Epoch 137/1000\n",
      "\u001b[1m195/195\u001b[0m \u001b[32m━━━━━━━━━━━━━━━━━━━━\u001b[0m\u001b[37m\u001b[0m \u001b[1m0s\u001b[0m 4ms/step - accuracy: 0.9266 - loss: 0.2271\n",
      "Epoch 137: saving model to model/keypoint_classifier/keypoint_classifier.hdf5.keras\n",
      "\u001b[1m195/195\u001b[0m \u001b[32m━━━━━━━━━━━━━━━━━━━━\u001b[0m\u001b[37m\u001b[0m \u001b[1m1s\u001b[0m 6ms/step - accuracy: 0.9266 - loss: 0.2271 - val_accuracy: 0.9778 - val_loss: 0.1179\n",
      "Epoch 138/1000\n",
      "\u001b[1m190/195\u001b[0m \u001b[32m━━━━━━━━━━━━━━━━━━━\u001b[0m\u001b[37m━\u001b[0m \u001b[1m0s\u001b[0m 4ms/step - accuracy: 0.9253 - loss: 0.2206\n",
      "Epoch 138: saving model to model/keypoint_classifier/keypoint_classifier.hdf5.keras\n",
      "\u001b[1m195/195\u001b[0m \u001b[32m━━━━━━━━━━━━━━━━━━━━\u001b[0m\u001b[37m\u001b[0m \u001b[1m1s\u001b[0m 6ms/step - accuracy: 0.9254 - loss: 0.2207 - val_accuracy: 0.9717 - val_loss: 0.1187\n",
      "Epoch 139/1000\n",
      "\u001b[1m195/195\u001b[0m \u001b[32m━━━━━━━━━━━━━━━━━━━━\u001b[0m\u001b[37m\u001b[0m \u001b[1m0s\u001b[0m 4ms/step - accuracy: 0.9269 - loss: 0.2270\n",
      "Epoch 139: saving model to model/keypoint_classifier/keypoint_classifier.hdf5.keras\n",
      "\u001b[1m195/195\u001b[0m \u001b[32m━━━━━━━━━━━━━━━━━━━━\u001b[0m\u001b[37m\u001b[0m \u001b[1m1s\u001b[0m 6ms/step - accuracy: 0.9269 - loss: 0.2270 - val_accuracy: 0.9742 - val_loss: 0.1185\n",
      "Epoch 140/1000\n",
      "\u001b[1m191/195\u001b[0m \u001b[32m━━━━━━━━━━━━━━━━━━━\u001b[0m\u001b[37m━\u001b[0m \u001b[1m0s\u001b[0m 4ms/step - accuracy: 0.9264 - loss: 0.2296\n",
      "Epoch 140: saving model to model/keypoint_classifier/keypoint_classifier.hdf5.keras\n",
      "\u001b[1m195/195\u001b[0m \u001b[32m━━━━━━━━━━━━━━━━━━━━\u001b[0m\u001b[37m\u001b[0m \u001b[1m1s\u001b[0m 6ms/step - accuracy: 0.9264 - loss: 0.2296 - val_accuracy: 0.9789 - val_loss: 0.1042\n",
      "Epoch 141/1000\n",
      "\u001b[1m187/195\u001b[0m \u001b[32m━━━━━━━━━━━━━━━━━━━\u001b[0m\u001b[37m━\u001b[0m \u001b[1m0s\u001b[0m 3ms/step - accuracy: 0.9316 - loss: 0.2152\n",
      "Epoch 141: saving model to model/keypoint_classifier/keypoint_classifier.hdf5.keras\n",
      "\u001b[1m195/195\u001b[0m \u001b[32m━━━━━━━━━━━━━━━━━━━━\u001b[0m\u001b[37m\u001b[0m \u001b[1m1s\u001b[0m 5ms/step - accuracy: 0.9315 - loss: 0.2154 - val_accuracy: 0.9756 - val_loss: 0.1074\n",
      "Epoch 142/1000\n",
      "\u001b[1m195/195\u001b[0m \u001b[32m━━━━━━━━━━━━━━━━━━━━\u001b[0m\u001b[37m\u001b[0m \u001b[1m0s\u001b[0m 4ms/step - accuracy: 0.9281 - loss: 0.2227\n",
      "Epoch 142: saving model to model/keypoint_classifier/keypoint_classifier.hdf5.keras\n",
      "\u001b[1m195/195\u001b[0m \u001b[32m━━━━━━━━━━━━━━━━━━━━\u001b[0m\u001b[37m\u001b[0m \u001b[1m1s\u001b[0m 7ms/step - accuracy: 0.9282 - loss: 0.2227 - val_accuracy: 0.9759 - val_loss: 0.1225\n",
      "Epoch 143/1000\n",
      "\u001b[1m188/195\u001b[0m \u001b[32m━━━━━━━━━━━━━━━━━━━\u001b[0m\u001b[37m━\u001b[0m \u001b[1m0s\u001b[0m 4ms/step - accuracy: 0.9285 - loss: 0.2188\n",
      "Epoch 143: saving model to model/keypoint_classifier/keypoint_classifier.hdf5.keras\n",
      "\u001b[1m195/195\u001b[0m \u001b[32m━━━━━━━━━━━━━━━━━━━━\u001b[0m\u001b[37m\u001b[0m \u001b[1m1s\u001b[0m 6ms/step - accuracy: 0.9286 - loss: 0.2188 - val_accuracy: 0.9764 - val_loss: 0.1146\n",
      "Epoch 144/1000\n",
      "\u001b[1m183/195\u001b[0m \u001b[32m━━━━━━━━━━━━━━━━━━\u001b[0m\u001b[37m━━\u001b[0m \u001b[1m0s\u001b[0m 3ms/step - accuracy: 0.9264 - loss: 0.2287\n",
      "Epoch 144: saving model to model/keypoint_classifier/keypoint_classifier.hdf5.keras\n",
      "\u001b[1m195/195\u001b[0m \u001b[32m━━━━━━━━━━━━━━━━━━━━\u001b[0m\u001b[37m\u001b[0m \u001b[1m1s\u001b[0m 6ms/step - accuracy: 0.9265 - loss: 0.2285 - val_accuracy: 0.9803 - val_loss: 0.1031\n",
      "Epoch 145/1000\n",
      "\u001b[1m194/195\u001b[0m \u001b[32m━━━━━━━━━━━━━━━━━━━\u001b[0m\u001b[37m━\u001b[0m \u001b[1m0s\u001b[0m 4ms/step - accuracy: 0.9293 - loss: 0.2261\n",
      "Epoch 145: saving model to model/keypoint_classifier/keypoint_classifier.hdf5.keras\n",
      "\u001b[1m195/195\u001b[0m \u001b[32m━━━━━━━━━━━━━━━━━━━━\u001b[0m\u001b[37m\u001b[0m \u001b[1m1s\u001b[0m 6ms/step - accuracy: 0.9293 - loss: 0.2261 - val_accuracy: 0.9761 - val_loss: 0.1224\n",
      "Epoch 146/1000\n",
      "\u001b[1m183/195\u001b[0m \u001b[32m━━━━━━━━━━━━━━━━━━\u001b[0m\u001b[37m━━\u001b[0m \u001b[1m0s\u001b[0m 3ms/step - accuracy: 0.9275 - loss: 0.2180\n",
      "Epoch 146: saving model to model/keypoint_classifier/keypoint_classifier.hdf5.keras\n",
      "\u001b[1m195/195\u001b[0m \u001b[32m━━━━━━━━━━━━━━━━━━━━\u001b[0m\u001b[37m\u001b[0m \u001b[1m1s\u001b[0m 6ms/step - accuracy: 0.9275 - loss: 0.2182 - val_accuracy: 0.9764 - val_loss: 0.1180\n",
      "Epoch 147/1000\n",
      "\u001b[1m195/195\u001b[0m \u001b[32m━━━━━━━━━━━━━━━━━━━━\u001b[0m\u001b[37m\u001b[0m \u001b[1m0s\u001b[0m 4ms/step - accuracy: 0.9281 - loss: 0.2241\n",
      "Epoch 147: saving model to model/keypoint_classifier/keypoint_classifier.hdf5.keras\n",
      "\u001b[1m195/195\u001b[0m \u001b[32m━━━━━━━━━━━━━━━━━━━━\u001b[0m\u001b[37m\u001b[0m \u001b[1m1s\u001b[0m 6ms/step - accuracy: 0.9281 - loss: 0.2241 - val_accuracy: 0.9696 - val_loss: 0.1234\n",
      "Epoch 148/1000\n",
      "\u001b[1m192/195\u001b[0m \u001b[32m━━━━━━━━━━━━━━━━━━━\u001b[0m\u001b[37m━\u001b[0m \u001b[1m0s\u001b[0m 4ms/step - accuracy: 0.9263 - loss: 0.2265\n",
      "Epoch 148: saving model to model/keypoint_classifier/keypoint_classifier.hdf5.keras\n",
      "\u001b[1m195/195\u001b[0m \u001b[32m━━━━━━━━━━━━━━━━━━━━\u001b[0m\u001b[37m\u001b[0m \u001b[1m1s\u001b[0m 6ms/step - accuracy: 0.9263 - loss: 0.2264 - val_accuracy: 0.9765 - val_loss: 0.1119\n",
      "Epoch 148: early stopping\n"
     ]
    },
    {
     "data": {
      "text/plain": [
       "<keras.src.callbacks.history.History at 0x25d64d67350>"
      ]
     },
     "execution_count": 16,
     "metadata": {},
     "output_type": "execute_result"
    }
   ],
   "source": [
    "model.fit(\n",
    "    X_train,\n",
    "    y_train,\n",
    "    epochs=1000,\n",
    "    batch_size=128,\n",
    "    validation_data=(X_test, y_test),\n",
    "    callbacks=[cp_callback, es_callback]\n",
    ")"
   ]
  },
  {
   "cell_type": "code",
   "execution_count": 17,
   "metadata": {
    "colab": {
     "base_uri": "https://localhost:8080/"
    },
    "id": "pxvb2Y299hE3",
    "outputId": "59eb3185-2e37-4b9e-bc9d-ab1b8ac29b7f"
   },
   "outputs": [
    {
     "name": "stdout",
     "output_type": "stream",
     "text": [
      "\u001b[1m65/65\u001b[0m \u001b[32m━━━━━━━━━━━━━━━━━━━━\u001b[0m\u001b[37m\u001b[0m \u001b[1m0s\u001b[0m 3ms/step - accuracy: 0.9777 - loss: 0.1124\n"
     ]
    }
   ],
   "source": [
    "# Model evaluation\n",
    "val_loss, val_acc = model.evaluate(X_test, y_test, batch_size=128)"
   ]
  },
  {
   "cell_type": "code",
   "execution_count": 18,
   "metadata": {
    "id": "RBkmDeUW9hE4"
   },
   "outputs": [],
   "source": [
    "# Loading the saved model\n",
    "#model = tf.keras.models.load_model(model_save_path)\n",
    "\n",
    "# Load the model\n",
    "model = tf.keras.models.load_model(model_save_path + \".keras\")"
   ]
  },
  {
   "cell_type": "code",
   "execution_count": 82,
   "metadata": {
    "colab": {
     "base_uri": "https://localhost:8080/"
    },
    "id": "tFz9Tb0I9hE4",
    "outputId": "1c3b3528-54ae-4ee2-ab04-77429211cbef"
   },
   "outputs": [
    {
     "name": "stdout",
     "output_type": "stream",
     "text": [
      "\u001b[1m1/1\u001b[0m \u001b[32m━━━━━━━━━━━━━━━━━━━━\u001b[0m\u001b[37m\u001b[0m \u001b[1m0s\u001b[0m 62ms/step\n",
      "[9.9768229e-23 4.0960921e-14 7.1443836e-05 6.0301725e-20 1.1045841e-11\n",
      " 2.6337288e-09 2.0711032e-11 6.3958532e-07 4.4980560e-08 5.9297349e-07\n",
      " 5.0106988e-04 1.1546775e-04 2.7029706e-10 1.3611591e-04 9.9895006e-01\n",
      " 7.2933688e-19 1.3843173e-04 1.2498854e-22 3.9996885e-06 1.4526812e-09\n",
      " 8.8546619e-09 7.4909993e-05 4.6286422e-07 5.1654818e-12 6.7606929e-06]\n",
      "14\n"
     ]
    }
   ],
   "source": [
    "# Inference test\n",
    "predict_result = model.predict(np.array([X_test[2]])) #o\n",
    "print(np.squeeze(predict_result))\n",
    "print(np.argmax(np.squeeze(predict_result)))"
   ]
  },
  {
   "cell_type": "markdown",
   "metadata": {
    "id": "S3U4yNWx9hE4"
   },
   "source": [
    "# Confusion matrix"
   ]
  },
  {
   "cell_type": "code",
   "execution_count": 72,
   "metadata": {
    "colab": {
     "base_uri": "https://localhost:8080/",
     "height": 582
    },
    "id": "AP1V6SCk9hE5",
    "outputId": "08e41a80-7a4a-4619-8125-ecc371368d19"
   },
   "outputs": [
    {
     "name": "stdout",
     "output_type": "stream",
     "text": [
      "\u001b[1m260/260\u001b[0m \u001b[32m━━━━━━━━━━━━━━━━━━━━\u001b[0m\u001b[37m\u001b[0m \u001b[1m0s\u001b[0m 2ms/step\n"
     ]
    },
    {
     "data": {
      "image/png": "[encoded data removed]",
      "text/plain": [
       "<Figure size 900x800 with 2 Axes>"
      ]
     },
     "metadata": {},
     "output_type": "display_data"
    },
    {
     "name": "stdout",
     "output_type": "stream",
     "text": [
      "Classification Report\n",
      "              precision    recall  f1-score   support\n",
      "\n",
      "           0       1.00      0.90      0.95       269\n",
      "           1       1.00      1.00      1.00       211\n",
      "           2       1.00      0.94      0.97       272\n",
      "           3       0.98      0.99      0.99       252\n",
      "           4       0.99      0.98      0.99       333\n",
      "           5       1.00      0.99      0.99       225\n",
      "           6       1.00      0.99      1.00       320\n",
      "           7       0.99      1.00      1.00       324\n",
      "           8       0.98      1.00      0.99       290\n",
      "           9       0.99      1.00      1.00       282\n",
      "          10       1.00      1.00      1.00       247\n",
      "          11       0.99      0.85      0.91       452\n",
      "          12       0.95      0.96      0.95       520\n",
      "          13       0.95      1.00      0.97       305\n",
      "          14       1.00      0.99      1.00       250\n",
      "          15       1.00      1.00      1.00       249\n",
      "          16       1.00      1.00      1.00       371\n",
      "          17       0.96      0.98      0.97       394\n",
      "          18       0.91      0.94      0.93       349\n",
      "          19       0.90      1.00      0.95       613\n",
      "          20       0.99      0.97      0.98       493\n",
      "          21       0.99      0.99      0.99       355\n",
      "          22       1.00      1.00      1.00       298\n",
      "          23       1.00      0.99      1.00       291\n",
      "          24       0.98      1.00      0.99       325\n",
      "\n",
      "    accuracy                           0.98      8290\n",
      "   macro avg       0.98      0.98      0.98      8290\n",
      "weighted avg       0.98      0.98      0.98      8290\n",
      "\n"
     ]
    }
   ],
   "source": [
    "import pandas as pd\n",
    "import seaborn as sns\n",
    "import matplotlib.pyplot as plt\n",
    "from sklearn.metrics import confusion_matrix, classification_report\n",
    "\n",
    "def print_confusion_matrix(y_true, y_pred, report=True):\n",
    "    labels = sorted(list(set(y_true)))\n",
    "    cmx_data = confusion_matrix(y_true, y_pred, labels=labels)\n",
    "    \n",
    "    df_cmx = pd.DataFrame(cmx_data, index=labels, columns=labels)\n",
    " \n",
    "    fig, ax = plt.subplots(figsize=(9, 8))\n",
    "    sns.heatmap(df_cmx, annot=True, fmt='g' ,square=False)\n",
    "    ax.set_ylim(len(set(y_true)), 0)\n",
    "    plt.show()\n",
    "    \n",
    "    if report:\n",
    "        print('Classification Report')\n",
    "        print(classification_report(y_test, y_pred))\n",
    "\n",
    "Y_pred = model.predict(X_test)\n",
    "y_pred = np.argmax(Y_pred, axis=1)\n",
    "\n",
    "print_confusion_matrix(y_test, y_pred)"
   ]
  },
  {
   "cell_type": "markdown",
   "metadata": {
    "id": "FNP6aqzc9hE5"
   },
   "source": [
    "# Convert to model for Tensorflow-Lite"
   ]
  },
  {
   "cell_type": "code",
   "execution_count": 23,
   "metadata": {
    "id": "ODjnYyld9hE6"
   },
   "outputs": [
    {
     "name": "stderr",
     "output_type": "stream",
     "text": [
      "WARNING:absl:You are saving your model as an HDF5 file via `model.save()` or `keras.saving.save_model(model)`. This file format is considered legacy. We recommend using instead the native Keras format, e.g. `model.save('my_model.keras')` or `keras.saving.save_model(model, 'my_model.keras')`. \n"
     ]
    }
   ],
   "source": [
    "# Save as a model dedicated to inference\n",
    "model.save(model_save_path, include_optimizer=False)"
   ]
  },
  {
   "cell_type": "code",
   "execution_count": 24,
   "metadata": {
    "colab": {
     "base_uri": "https://localhost:8080/"
    },
    "id": "zRfuK8Y59hE6",
    "outputId": "a4ca585c-b5d5-4244-8291-8674063209bb"
   },
   "outputs": [
    {
     "name": "stdout",
     "output_type": "stream",
     "text": [
      "INFO:tensorflow:Assets written to: C:\\Users\\ACER\\AppData\\Local\\Temp\\tmpv2n0t22n\\assets\n"
     ]
    },
    {
     "name": "stderr",
     "output_type": "stream",
     "text": [
      "INFO:tensorflow:Assets written to: C:\\Users\\ACER\\AppData\\Local\\Temp\\tmpv2n0t22n\\assets\n"
     ]
    },
    {
     "name": "stdout",
     "output_type": "stream",
     "text": [
      "Saved artifact at 'C:\\Users\\ACER\\AppData\\Local\\Temp\\tmpv2n0t22n'. The following endpoints are available:\n",
      "\n",
      "* Endpoint 'serve'\n",
      "  args_0 (POSITIONAL_ONLY): TensorSpec(shape=(None, 42), dtype=tf.float32, name='input_layer')\n",
      "Output Type:\n",
      "  TensorSpec(shape=(None, 25), dtype=tf.float32, name=None)\n",
      "Captures:\n",
      "  2600146683664: TensorSpec(shape=(), dtype=tf.resource, name=None)\n",
      "  2600146682512: TensorSpec(shape=(), dtype=tf.resource, name=None)\n",
      "  2600146684240: TensorSpec(shape=(), dtype=tf.resource, name=None)\n",
      "  2600146697680: TensorSpec(shape=(), dtype=tf.resource, name=None)\n",
      "  2600146685776: TensorSpec(shape=(), dtype=tf.resource, name=None)\n",
      "  2600146698064: TensorSpec(shape=(), dtype=tf.resource, name=None)\n"
     ]
    },
    {
     "data": {
      "text/plain": [
       "11720"
      ]
     },
     "execution_count": 24,
     "metadata": {},
     "output_type": "execute_result"
    }
   ],
   "source": [
    "# Transform model (quantization)\n",
    "\n",
    "converter = tf.lite.TFLiteConverter.from_keras_model(model)\n",
    "converter.optimizations = [tf.lite.Optimize.DEFAULT]\n",
    "tflite_quantized_model = converter.convert()\n",
    "\n",
    "open(tflite_save_path, 'wb').write(tflite_quantized_model)"
   ]
  },
  {
   "cell_type": "markdown",
   "metadata": {
    "id": "CHBPBXdx9hE6"
   },
   "source": [
    "# Inference test"
   ]
  },
  {
   "cell_type": "code",
   "execution_count": 26,
   "metadata": {
    "id": "mGAzLocO9hE7"
   },
   "outputs": [],
   "source": [
    "interpreter = tf.lite.Interpreter(model_path=tflite_save_path)\n",
    "interpreter.allocate_tensors()"
   ]
  },
  {
   "cell_type": "code",
   "execution_count": 27,
   "metadata": {
    "id": "oQuDK8YS9hE7"
   },
   "outputs": [],
   "source": [
    "# Get I / O tensor\n",
    "input_details = interpreter.get_input_details()\n",
    "output_details = interpreter.get_output_details()"
   ]
  },
  {
   "cell_type": "code",
   "execution_count": 28,
   "metadata": {
    "id": "2_ixAf_l9hE7"
   },
   "outputs": [],
   "source": [
    "interpreter.set_tensor(input_details[0]['index'], np.array([X_test[0]]))"
   ]
  },
  {
   "cell_type": "code",
   "execution_count": 29,
   "metadata": {
    "colab": {
     "base_uri": "https://localhost:8080/"
    },
    "id": "s4FoAnuc9hE7",
    "outputId": "91f18257-8d8b-4ef3-c558-e9b5f94fabbf",
    "scrolled": true
   },
   "outputs": [
    {
     "name": "stdout",
     "output_type": "stream",
     "text": [
      "CPU times: total: 0 ns\n",
      "Wall time: 3.99 ms\n"
     ]
    }
   ],
   "source": [
    "%%time\n",
    "# Inference implementation\n",
    "interpreter.invoke()\n",
    "tflite_results = interpreter.get_tensor(output_details[0]['index'])"
   ]
  },
  {
   "cell_type": "code",
   "execution_count": 30,
   "metadata": {
    "colab": {
     "base_uri": "https://localhost:8080/"
    },
    "id": "vONjp19J9hE8",
    "outputId": "77205e24-fd00-42c4-f7b6-e06e527c2cba"
   },
   "outputs": [
    {
     "name": "stdout",
     "output_type": "stream",
     "text": [
      "[1.0746346e-14 4.3074155e-04 1.8892246e-05 1.4855722e-08 4.4788450e-08\n",
      " 3.2837081e-05 1.0431191e-20 4.9431635e-12 2.1767382e-10 1.8945803e-21\n",
      " 3.5322520e-10 1.8804276e-07 1.1840961e-16 1.0119081e-07 4.9310804e-09\n",
      " 9.8312924e-08 3.2981267e-18 4.7002052e-11 8.3591016e-07 2.1743619e-20\n",
      " 1.4236616e-11 2.7647475e-15 9.9951625e-01 6.3090039e-13 8.5549831e-18]\n",
      "22\n"
     ]
    }
   ],
   "source": [
    "print(np.squeeze(tflite_results))\n",
    "print(np.argmax(np.squeeze(tflite_results)))"
   ]
  },
  {
   "cell_type": "code",
   "execution_count": null,
   "metadata": {},
   "outputs": [],
   "source": []
  },
  {
   "cell_type": "code",
   "execution_count": null,
   "metadata": {},
   "outputs": [],
   "source": []
  },
  {
   "cell_type": "code",
   "execution_count": null,
   "metadata": {},
   "outputs": [],
   "source": []
  }
 ],
 "metadata": {
  "accelerator": "GPU",
  "colab": {
   "collapsed_sections": [],
   "name": "keypoint_classification_EN.ipynb",
   "provenance": [],
   "toc_visible": true
  },
  "kernelspec": {
   "display_name": "Python 3 (ipykernel)",
   "language": "python",
   "name": "python3"
  },
  "language_info": {
   "codemirror_mode": {
    "name": "ipython",
    "version": 3
   },
   "file_extension": ".py",
   "mimetype": "text/x-python",
   "name": "python",
   "nbconvert_exporter": "python",
   "pygments_lexer": "ipython3",
   "version": "3.12.4"
  }
 },
 "nbformat": 4,
 "nbformat_minor": 4
}
